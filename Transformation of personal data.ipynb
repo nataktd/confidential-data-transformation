{
 "cells": [
  {
   "cell_type": "markdown",
   "id": "7bfcc19e",
   "metadata": {
    "toc": true
   },
   "source": [
    "<h1>Table of Contents<span class=\"tocSkip\"></span></h1>\n",
    "<div class=\"toc\"><ul class=\"toc-item\"><li><span><a href=\"#Изучение-данных-и-подготовка-к-работе\" data-toc-modified-id=\"Изучение-данных-и-подготовка-к-работе-1\"><span class=\"toc-item-num\">1&nbsp;&nbsp;</span>Изучение данных и подготовка к работе</a></span><ul class=\"toc-item\"><li><span><a href=\"#Методы-и-формулы-для-расчетов\" data-toc-modified-id=\"Методы-и-формулы-для-расчетов-1.1\"><span class=\"toc-item-num\">1.1&nbsp;&nbsp;</span>Методы и формулы для расчетов</a></span><ul class=\"toc-item\"><li><span><a href=\"#Умножение-матриц\" data-toc-modified-id=\"Умножение-матриц-1.1.1\"><span class=\"toc-item-num\">1.1.1&nbsp;&nbsp;</span>Умножение матриц</a></span></li></ul></li><li><span><a href=\"#Общая-информация-о-датасете-и-данных.-Предобработка-данных.\" data-toc-modified-id=\"Общая-информация-о-датасете-и-данных.-Предобработка-данных.-1.2\"><span class=\"toc-item-num\">1.2&nbsp;&nbsp;</span>Общая информация о датасете и данных. Предобработка данных.</a></span></li></ul></li><li><span><a href=\"#Алгоритм-преобразования\" data-toc-modified-id=\"Алгоритм-преобразования-2\"><span class=\"toc-item-num\">2&nbsp;&nbsp;</span>Алгоритм преобразования</a></span></li><li><span><a href=\"#Проверка-алгоритма\" data-toc-modified-id=\"Проверка-алгоритма-3\"><span class=\"toc-item-num\">3&nbsp;&nbsp;</span>Проверка алгоритма</a></span></li><li><span><a href=\"#Итоги-и-выводы-по-проекту\" data-toc-modified-id=\"Итоги-и-выводы-по-проекту-4\"><span class=\"toc-item-num\">4&nbsp;&nbsp;</span>Итоги и выводы по проекту</a></span></li></ul></div>"
   ]
  },
  {
   "cell_type": "markdown",
   "id": "dd68a294",
   "metadata": {},
   "source": [
    "# Описание проекта"
   ]
  },
  {
   "cell_type": "markdown",
   "id": "ca61316f",
   "metadata": {},
   "source": [
    "Страховая компания «Хоть потоп» предоставила данные о клиентах.\n",
    "\n",
    "Нужно разработать такой метод преобразования данных, чтобы по ним было сложно восстановить персональную информацию."
   ]
  },
  {
   "cell_type": "markdown",
   "id": "a9c7399e",
   "metadata": {},
   "source": [
    "# Цель:"
   ]
  },
  {
   "cell_type": "markdown",
   "id": "375b6844",
   "metadata": {},
   "source": [
    "Нужно защитить данные о клиентах компании «Хоть потоп», чтобы при преобразовании данных качество моделей машинного обучения не ухудшилось."
   ]
  },
  {
   "cell_type": "markdown",
   "id": "3d646aad",
   "metadata": {},
   "source": [
    "# Описание данных:"
   ]
  },
  {
   "cell_type": "markdown",
   "id": "3485aace",
   "metadata": {},
   "source": [
    "Набор данных находится в файле `/datasets/insurance.csv`. \n",
    "\n",
    "Признаки: пол, возраст и зарплата застрахованного, количество членов его семьи.\n",
    "\n",
    "Целевой признак: количество страховых выплат клиенту за последние 5 лет."
   ]
  },
  {
   "cell_type": "markdown",
   "id": "4d1ee1b8",
   "metadata": {},
   "source": [
    "# Краткий план работы:"
   ]
  },
  {
   "cell_type": "markdown",
   "id": "04de21d1",
   "metadata": {},
   "source": [
    "- Загрузить и изучить данные.\n",
    "\n",
    "- Ответить на вопрос и обосновать решение: Признаки умножают на обратимую матрицу. Изменится ли качество линейной регрессии? (Её можно обучить заново.)\n",
    "\n",
    " - Изменится. Привести примеры матриц.\n",
    "\n",
    " - Не изменится. Указать, как связаны параметры линейной регрессии в исходной задаче и в преобразованной.\n",
    " \n",
    "- Предложить алгоритм преобразования данных для решения задачи. Обосновать, почему качество линейной регрессии не поменяется.\n",
    "\n",
    "- Запрограммировать этот алгоритм, применив матричные операции. \n",
    "\n",
    "- Проверить, что качество линейной регрессии из sklearn не отличается до и после преобразования. Применить метрику R2 для оценки качества модели."
   ]
  },
  {
   "cell_type": "markdown",
   "id": "dc47569b",
   "metadata": {},
   "source": [
    "## Изучение данных и подготовка к работе"
   ]
  },
  {
   "cell_type": "markdown",
   "id": "09da124d",
   "metadata": {},
   "source": [
    "Настроим окружение: импортируем все необходимые библиотеки."
   ]
  },
  {
   "cell_type": "code",
   "execution_count": 1,
   "id": "30595df1",
   "metadata": {},
   "outputs": [],
   "source": [
    "import os\n",
    "\n",
    "import numpy as np\n",
    "import pandas as pd\n",
    "\n",
    "\n",
    "import matplotlib.pyplot as plt\n",
    "import seaborn as sns\n",
    "\n",
    "\n",
    "from sklearn.linear_model import LinearRegression\n",
    "from sklearn.preprocessing import StandardScaler\n",
    "from sklearn.metrics import r2_score"
   ]
  },
  {
   "cell_type": "markdown",
   "id": "dc305aae",
   "metadata": {},
   "source": [
    "### Методы и формулы для расчетов"
   ]
  },
  {
   "cell_type": "code",
   "execution_count": 2,
   "id": "ec68701e",
   "metadata": {},
   "outputs": [],
   "source": [
    "# метод покажет количество и выведет уникальные значения столбцов датасета\n",
    "def check_columns(df):\n",
    "    \n",
    "    for column in df.columns:        \n",
    "        print('Количество уникальных значений столбца', column, '-', df[column].nunique())        \n",
    "        print(df[column].sort_values().unique())         \n",
    "        print('____________________________________')"
   ]
  },
  {
   "cell_type": "code",
   "execution_count": 3,
   "id": "8178a199",
   "metadata": {},
   "outputs": [],
   "source": [
    "#боксплот для признаков датасета\n",
    "def boxplot_df(df, title):    \n",
    "    names = df.columns    \n",
    "    ncols = len(names)    \n",
    "    \n",
    "    fig, axes = plt.subplots(1,ncols, figsize=(20, 5))    \n",
    "    for name, ax in zip( names, axes.flatten()):        \n",
    "        sns.boxplot(y=name, data=df, orient='v', ax=ax)        \n",
    "        plt.suptitle(title)   "
   ]
  },
  {
   "cell_type": "code",
   "execution_count": 4,
   "id": "879429e6",
   "metadata": {},
   "outputs": [],
   "source": [
    "# метод найдет и посчитает выбросы\n",
    "def find_outliers(df,column):\n",
    "    \n",
    "    # определим 25 и 75% квантили\n",
    "    q25=np.array(df[column].quantile(0.25))    \n",
    "    q75=np.array(df[column].quantile(0.75))\n",
    "    \n",
    "    # границы нормального размаха\n",
    "    limit_of_normal_range_left=q25-1.5*(q75-q25)    \n",
    "    limit_of_normal_range_right=q75+1.5*(q75-q25)\n",
    "    \n",
    "    # определим индексы объектов - выбросов\n",
    "    del_index = []    \n",
    "    for index_value, value in zip(df[column].index,df[column]):        \n",
    "        if limit_of_normal_range_right <= value or value <= limit_of_normal_range_left:            \n",
    "            del_index.append(index_value)\n",
    "    \n",
    "    print('Количество строк, выбранных для удаления в столбце', column, ': ', len(del_index))    \n",
    "    print('Процент удаленных данных {:.2f}'.format(len(del_index)*100/df.shape[0]))    \n",
    "    print('___________________________________________________________')\n",
    "    \n",
    "    return del_index"
   ]
  },
  {
   "cell_type": "code",
   "execution_count": 5,
   "id": "fdb859de",
   "metadata": {},
   "outputs": [],
   "source": [
    "#выделение независимых признаков и целевой переменой, масштабирование данных\n",
    "def  split_scaled_df(df):    \n",
    "    #выделение независимых признаков и целевой переменой\n",
    "    X = df.drop('страховые_выплаты', axis = 1)\n",
    "    y = df['страховые_выплаты']  \n",
    "    \n",
    "    print('Размер выборки с независимыми признаками', X.shape)    \n",
    "    print('Размер выборки с целевым признаком', y.shape)\n",
    "    \n",
    "    scaler = StandardScaler()    \n",
    "    scaler.fit(X)\n",
    "    X_scaled = scaler.transform(X)    \n",
    "    print('Размер выборки с масштабированными независимыми признаками', X_scaled.shape)    \n",
    "    return X, y, X_scaled"
   ]
  },
  {
   "cell_type": "code",
   "execution_count": 6,
   "id": "9995dce7",
   "metadata": {},
   "outputs": [],
   "source": [
    "#метод проверит изменилось или качество предсказания после преобразования признаков\n",
    "def transform_matrix(features, target, p_matrix):     \n",
    "    # Создадим столбец с единицами\n",
    "    bias_column = np.ones((features.shape[0], 1))     \n",
    "    # Объединим его с матрицей признаков\n",
    "    features_bias_column = np.concatenate((bias_column, features), axis = 1)     \n",
    "    #Расчитаем веса w для исходных признаков (масштабированных и не масштабированных)\n",
    "    w = np.linalg.inv(features_bias_column.T.dot(features_bias_column)).dot(features_bias_column.T).dot(target)    \n",
    "    #Расчитаем вектор предсказаний по исходным признакам по формуле 𝑎=𝑋𝑤\n",
    "    a = features_bias_column.dot(w)    \n",
    "    #Проведем преобразование признаков\n",
    "    X_p = features.dot(p_matrix)      \n",
    "    # Создадим столбец с единицами\n",
    "    bias_column_p = np.ones((features.shape[0], 1))    \n",
    "    # Объединим его с преобразованной матрицей признаков\n",
    "    X_p_bias_column = np.concatenate((bias_column_p, X_p), axis = 1)\n",
    "    \n",
    "    print('Преобразованная матрица с искусственным столбцом с единицами')\n",
    "    \n",
    "    #Выведем данные после преобразования\n",
    "    display(pd.DataFrame(X_p_bias_column))    \n",
    "    #Расчитаем веса  𝑤1  для преобразованных признаков \n",
    "    w1 = np.linalg.inv(X_p_bias_column.T.dot(X_p_bias_column)).dot(X_p_bias_column.T).dot(target)    \n",
    "    #Расчитаем вектор предсказаний по преобразованным признакам по формуле  𝑎=𝑋𝑤\n",
    "    a1 = X_p_bias_column.dot(w1)    \n",
    "    #Получим вектор разниц между предсказаниями по исходным признакам  𝑎  и преобразованным  𝑎1 \n",
    "    diff_1 = a - a1    \n",
    "    #Просуммируем все элементы вектора diff, чтобы убедиться, что расхождения минимальны.\n",
    "    diff_1.sum()\n",
    "    \n",
    "    print('Результат проверки качества модели: разниц между предсказаниями по исходным признакам  𝑎 и преобразованным 𝑎1',\\\n",
    "          diff_1.sum())     \n",
    "    return X_p"
   ]
  },
  {
   "cell_type": "code",
   "execution_count": 7,
   "id": "0e44d914",
   "metadata": {},
   "outputs": [],
   "source": [
    "#  метод для передачи выборок в обучающую модель линейной регрессии \n",
    "def train_model(features,target, p_matrix, emissions, data_scaling):\n",
    "    \n",
    "    #  обучим модель линейная регрессия \n",
    "    model = LinearRegression()    \n",
    "    model.fit(features, target)    \n",
    "    predictions = model.predict(features)        \n",
    "    # расчитаем метрику R2\n",
    "    r2 = r2_score(target, predictions)    \n",
    "    \n",
    "    #Проведем преобразование признаков\n",
    "    X_p = features.dot(p_matrix)    \n",
    "    model_p = LinearRegression()    \n",
    "    model_p.fit(X_p, target)    \n",
    "    predictions_p = model_p.predict(X_p)       \n",
    "    # расчитаем метрику R2\n",
    "    r2_p = r2_score(target, predictions_p)\n",
    "    \n",
    "    # строка для накопительной таблицы по моделям и параметрам\n",
    "    row_tab_metrics = [emissions, data_scaling, r2, r2_p]    \n",
    "    return row_tab_metrics\n",
    "\n",
    "# создаем накопительную таблицу для сбора данных по всем лучшим моделям алгоритма Деревр Решений для сравнения\n",
    "tab_metrics = pd.DataFrame(columns = ['Выбросы в данных', 'Данные масштабированы', \n",
    "                                         'R2 на исходных данных', 'R2 на преобразованных данных'])"
   ]
  },
  {
   "cell_type": "markdown",
   "id": "0ce06b8f",
   "metadata": {},
   "source": [
    "<a id = 'matrix'></a>"
   ]
  },
  {
   "cell_type": "markdown",
   "id": "e1b7724c",
   "metadata": {},
   "source": [
    "#### Умножение матриц"
   ]
  },
  {
   "cell_type": "markdown",
   "id": "5361d959",
   "metadata": {},
   "source": [
    "Необходимо ответить на вопрос и обосновать решение: Признаки умножают на обратимую матрицу. Изменится ли качество линейной регрессии? (Её можно обучить заново.)\n",
    "\n",
    "- Изменится. Привести примеры матриц.\n",
    "\n",
    "- Не изменится. Указать, как связаны параметры линейной регрессии в исходной задаче и в преобразованной."
   ]
  },
  {
   "cell_type": "markdown",
   "id": "9cb968cf",
   "metadata": {},
   "source": [
    "Обозначения:\n",
    "\n",
    "- `X` — матрица признаков (нулевой столбец состоит из единиц)\n",
    "\n",
    "- `y` — вектор целевого признака\n",
    "\n",
    "- `P` — матрица, на которую умножаются признаки\n",
    "\n",
    "- `w` — вектор весов линейной регрессии (нулевой элемент равен сдвигу)"
   ]
  },
  {
   "cell_type": "markdown",
   "id": "bc13c1c7",
   "metadata": {},
   "source": [
    "Предсказания:\n",
    "\n",
    "$$\n",
    "a = Xw\n",
    "$$\n",
    "\n",
    "Задача обучения:\n",
    "\n",
    "$$\n",
    "w = \\arg\\min_w MSE(Xw, y)\n",
    "$$\n",
    "\n",
    "Формула обучения:\n",
    "\n",
    "$$\n",
    "w = (X^T X)^{-1} X^T y\n",
    "$$"
   ]
  },
  {
   "cell_type": "markdown",
   "id": "752a29fe",
   "metadata": {},
   "source": [
    "Выпишем формулы, которые будем использовать в  доказательстве того, что при умножении признаков на обратимую матрицу качество линейной регрессии не меняется.\n",
    "\n",
    "- $(A B)^{-1} = B^{-1} A^{-1}$\n",
    "\n",
    "- $(A B)^T = B^T A^T$\n",
    "\n",
    "- $A A^{-1} = E$"
   ]
  },
  {
   "cell_type": "markdown",
   "id": "872eea2b",
   "metadata": {},
   "source": [
    "Заменим `w`  в формуле предсказания (`a = Xw`) формулой обучения ($w = (X^T X)^{-1} X^T y$):\n",
    "\n",
    "$$\n",
    "a = X(X^T X)^{-1} X^T y\n",
    "$$\n"
   ]
  },
  {
   "cell_type": "markdown",
   "id": "799615f3",
   "metadata": {},
   "source": [
    "Представим новую матрицу признаков `Z` как произведение матрицы `X`  на матрицу `P` - обратимая матрица с некими значениями, на которую может быть умножена матрица `X`:\n",
    "\n",
    "$$\n",
    "Z = XP\n",
    "$$"
   ]
  },
  {
   "cell_type": "markdown",
   "id": "501dd23d",
   "metadata": {},
   "source": [
    "Заменим `X`  на `Z`  в формуле предсказания (a = Xw) .\n",
    "\n",
    "$$\n",
    "a1 = Z(Z^T Z)^{-1} Z^T y\n",
    "$$"
   ]
  },
  {
   "cell_type": "markdown",
   "id": "86e2882f",
   "metadata": {},
   "source": [
    "Докажем, что `a1 = a`."
   ]
  },
  {
   "cell_type": "markdown",
   "id": "9b16f0ef",
   "metadata": {},
   "source": [
    "Заменим все `Z` на `XP`:\n",
    "\n",
    "$$\n",
    "a1 = XP((XP)^TXP)^{-1}(XP)^Ty\n",
    "$$ "
   ]
  },
  {
   "cell_type": "markdown",
   "id": "92144155",
   "metadata": {},
   "source": [
    "Воспользуемся свойством транспорнированной матрицы $(AB)^T = B^T A^T$, преобразуем выражение:\n",
    "\n",
    "$$\n",
    "a1 = XP(P^TX^TXP)^{-1}P^TX^Ty\n",
    "$$"
   ]
  },
  {
   "cell_type": "markdown",
   "id": "84e7cbe8",
   "metadata": {},
   "source": [
    "Сгруппируем некоторые элементы выражения и продолжим преобразования (воспользуемся формулой для преобразования $(AB)^{-1} = B^{-1} A^{-1}$):\n",
    "\n",
    "$$\n",
    "a1 = XP(P^T(X^TX)P)^{-1}P^TX^Ty\n",
    "$$\n",
    "    \n",
    "$$\n",
    "a1 = XPP^{-1}(X^TX)^{-1}(P^T)^{-1}P^TX^Ty\n",
    "$$"
   ]
  },
  {
   "cell_type": "markdown",
   "id": "e20449b7",
   "metadata": {},
   "source": [
    "Выражения $ P P ^{-1}$  и $(P^T)^{-1}P^T$заменим на единичную матрицу (по правилу $A A^{-1} = E$)\n",
    "\n",
    "$$\n",
    "a1 = XE(X^TX)^{-1}EX^Ty\n",
    "$$\n",
    "\n",
    "$$\n",
    "a1 = X(X^TX)^{-1}X^Ty\n",
    "$$"
   ]
  },
  {
   "cell_type": "markdown",
   "id": "a26ee0e6",
   "metadata": {},
   "source": [
    "Выражение $(X^TX)^{-1}X^Ty$ можно заменить на `w`:\n",
    "\n",
    "$$\n",
    "a1 = Xw\n",
    "$$"
   ]
  },
  {
   "cell_type": "markdown",
   "id": "b5547447",
   "metadata": {},
   "source": [
    "А значит `a1 = a`."
   ]
  },
  {
   "cell_type": "markdown",
   "id": "dcbe770c",
   "metadata": {},
   "source": [
    "В данном случае, параметры линейной регрессии в исходной задаче  и в преобразованной  связаны следующим образом:\n",
    "\n",
    "$$\n",
    "a1 = a \n",
    "$$\n",
    "\n",
    "Можем записать следующим образом:\n",
    "\n",
    "$$\n",
    "Zw1 = Xw\n",
    "$$\n",
    "\n",
    "Проведем замену `Z` на `XP` и получим :\n",
    "\n",
    "$$\n",
    "XPw1 = Xw\n",
    "$$\n",
    "\n",
    "Матрица `𝑋` является прямоугольной (не квадратной), а мы хотим выразить взаимосвязь между векторами `𝑤` и `𝑤1`, то можем сделать это с использованием псевдообратной матрицы.\n",
    "\n",
    "Если `Х` - прямоугольная матрица, тогда $Х^⁺$ - это матрица, которая \"приближает\" обратную матрицу $Х^{-1}$, чтобы решить систему уравнений в случае, когда матрица `Х` не является квадратной.\n",
    "\n",
    "Мы можете использовать псевдообратную матрицу $X^+$ (псевдообратная матрица матрицы `X`) следующим образом:\n",
    "\n",
    "Умножим обе стороны на псевдообратную матрицу $X^+$:\n",
    "\n",
    "$$\n",
    "X^+ XPw1 = X^+ Xw\n",
    "$$\n",
    "Поскольку умножение на псевдообратную матрицу даёт единичную матрицу (подобно умножению на обратную матрицу для квадратной матрицы), остаётся:\n",
    "\n",
    "$$\n",
    "Pw1 = w\n",
    "$$"
   ]
  },
  {
   "cell_type": "markdown",
   "id": "4da0f100",
   "metadata": {},
   "source": [
    "**Вывод**\n",
    "\n",
    "Значение предсказания  `a` не меняется, если умножить матрицу признаков `X` на обратимую матрицу `P`.\n",
    "\n",
    "Отвечая на вопрос: изменится ли качество линейной регрессии при умножении признаков на обратимую матрицу, можно утверждать, что  качество линейной регрессии при умножении признаков на обратимую матрицу не изменится. \n",
    "\n",
    "Параметры линейной регрессии `w` в исходной задаче  `w1` и в преобразованной  связаны следующим образом: `Pw1 = w`."
   ]
  },
  {
   "cell_type": "markdown",
   "id": "51bc75a7",
   "metadata": {},
   "source": [
    "<a id = 'data'></a>"
   ]
  },
  {
   "cell_type": "markdown",
   "id": "dae0fea4",
   "metadata": {},
   "source": [
    "### Общая информация о датасете и данных. Предобработка данных."
   ]
  },
  {
   "cell_type": "markdown",
   "id": "259ff305",
   "metadata": {},
   "source": [
    "Ознакомимся с данными таблицы и их структурой.\n",
    "\n",
    "Загрузим в датафрейм данные, с которыми будем работать.\n",
    "\n",
    "Посмотрим на несколько первых записей в датафрейме c помощью метода head().\n",
    "\n",
    "Выведем общую информацию по таблице c помощью метода info()."
   ]
  },
  {
   "cell_type": "code",
   "execution_count": 8,
   "id": "33634e6b",
   "metadata": {},
   "outputs": [],
   "source": [
    "pth1 = '/datasets/insurance.csv'\n",
    "pth2 = 'insurance.csv'\n",
    "if os.path.exists(pth1):    \n",
    "    data = pd.read_csv(pth1)    \n",
    "elif os.path.exists(pth2):    \n",
    "    data = pd.read_csv(pth2)    \n",
    "else:    \n",
    "    print('Something is wrong') "
   ]
  },
  {
   "cell_type": "code",
   "execution_count": 9,
   "id": "7eab25f3",
   "metadata": {},
   "outputs": [
    {
     "data": {
      "text/html": [
       "<div>\n",
       "<style scoped>\n",
       "    .dataframe tbody tr th:only-of-type {\n",
       "        vertical-align: middle;\n",
       "    }\n",
       "\n",
       "    .dataframe tbody tr th {\n",
       "        vertical-align: top;\n",
       "    }\n",
       "\n",
       "    .dataframe thead th {\n",
       "        text-align: right;\n",
       "    }\n",
       "</style>\n",
       "<table border=\"1\" class=\"dataframe\">\n",
       "  <thead>\n",
       "    <tr style=\"text-align: right;\">\n",
       "      <th></th>\n",
       "      <th>Пол</th>\n",
       "      <th>Возраст</th>\n",
       "      <th>Зарплата</th>\n",
       "      <th>Члены семьи</th>\n",
       "      <th>Страховые выплаты</th>\n",
       "    </tr>\n",
       "  </thead>\n",
       "  <tbody>\n",
       "    <tr>\n",
       "      <th>0</th>\n",
       "      <td>1</td>\n",
       "      <td>41.0</td>\n",
       "      <td>49600.0</td>\n",
       "      <td>1</td>\n",
       "      <td>0</td>\n",
       "    </tr>\n",
       "    <tr>\n",
       "      <th>1</th>\n",
       "      <td>0</td>\n",
       "      <td>46.0</td>\n",
       "      <td>38000.0</td>\n",
       "      <td>1</td>\n",
       "      <td>1</td>\n",
       "    </tr>\n",
       "    <tr>\n",
       "      <th>2</th>\n",
       "      <td>0</td>\n",
       "      <td>29.0</td>\n",
       "      <td>21000.0</td>\n",
       "      <td>0</td>\n",
       "      <td>0</td>\n",
       "    </tr>\n",
       "    <tr>\n",
       "      <th>3</th>\n",
       "      <td>0</td>\n",
       "      <td>21.0</td>\n",
       "      <td>41700.0</td>\n",
       "      <td>2</td>\n",
       "      <td>0</td>\n",
       "    </tr>\n",
       "    <tr>\n",
       "      <th>4</th>\n",
       "      <td>1</td>\n",
       "      <td>28.0</td>\n",
       "      <td>26100.0</td>\n",
       "      <td>0</td>\n",
       "      <td>0</td>\n",
       "    </tr>\n",
       "  </tbody>\n",
       "</table>\n",
       "</div>"
      ],
      "text/plain": [
       "   Пол  Возраст  Зарплата  Члены семьи  Страховые выплаты\n",
       "0    1     41.0   49600.0            1                  0\n",
       "1    0     46.0   38000.0            1                  1\n",
       "2    0     29.0   21000.0            0                  0\n",
       "3    0     21.0   41700.0            2                  0\n",
       "4    1     28.0   26100.0            0                  0"
      ]
     },
     "execution_count": 9,
     "metadata": {},
     "output_type": "execute_result"
    }
   ],
   "source": [
    "data.head()"
   ]
  },
  {
   "cell_type": "code",
   "execution_count": 10,
   "id": "c97fdb1d",
   "metadata": {},
   "outputs": [
    {
     "name": "stdout",
     "output_type": "stream",
     "text": [
      "<class 'pandas.core.frame.DataFrame'>\n",
      "RangeIndex: 5000 entries, 0 to 4999\n",
      "Data columns (total 5 columns):\n",
      " #   Column             Non-Null Count  Dtype  \n",
      "---  ------             --------------  -----  \n",
      " 0   Пол                5000 non-null   int64  \n",
      " 1   Возраст            5000 non-null   float64\n",
      " 2   Зарплата           5000 non-null   float64\n",
      " 3   Члены семьи        5000 non-null   int64  \n",
      " 4   Страховые выплаты  5000 non-null   int64  \n",
      "dtypes: float64(2), int64(3)\n",
      "memory usage: 195.4 KB\n"
     ]
    }
   ],
   "source": [
    "data.info()"
   ]
  },
  {
   "cell_type": "markdown",
   "id": "8beee1d8",
   "metadata": {},
   "source": [
    "Типы данных в датафрейме:\n",
    "\n",
    "Категориальные: `Пол`.\n",
    "\n",
    "Количественные: `Возраст`, `Зарплата`, `Члены семьи`, `Страховые выплаты`, тип float и int.\n",
    "\n",
    "Логические: логических нет.\n",
    "\n",
    "В датафрейме 5000 объектов и 5 признаков (характеристик) для них, пропусков нет.\n",
    "\n",
    "Из признаков модем выделить 4 независимых признака и один целевой признак `Страховые выплаты`.\n"
   ]
  },
  {
   "cell_type": "markdown",
   "id": "bb3a31b9",
   "metadata": {},
   "source": [
    "\n",
    "Вызывем метод `columns` для изучения корректности названий заголовков датафреймов."
   ]
  },
  {
   "cell_type": "code",
   "execution_count": 11,
   "id": "5bbe4022",
   "metadata": {},
   "outputs": [
    {
     "data": {
      "text/plain": [
       "['Пол', 'Возраст', 'Зарплата', 'Члены семьи', 'Страховые выплаты']"
      ]
     },
     "execution_count": 11,
     "metadata": {},
     "output_type": "execute_result"
    }
   ],
   "source": [
    "data.columns.tolist()"
   ]
  },
  {
   "cell_type": "markdown",
   "id": "3d3a017a",
   "metadata": {},
   "source": [
    "В наборе данных есть общие элементы беспорядочных имен столбцов: разделители слов ввиде пробела, разные регистры.\n",
    "\n",
    "Переведем все в один регистр, удалим пробелы между словами."
   ]
  },
  {
   "cell_type": "code",
   "execution_count": 12,
   "id": "59028d25",
   "metadata": {},
   "outputs": [
    {
     "data": {
      "text/plain": [
       "['пол', 'возраст', 'зарплата', 'члены_семьи', 'страховые_выплаты']"
      ]
     },
     "execution_count": 12,
     "metadata": {},
     "output_type": "execute_result"
    }
   ],
   "source": [
    "data.columns = data.columns.str.replace(' ', '_')\n",
    "data.columns = data.columns.str.lower()\n",
    "data.columns.tolist()"
   ]
  },
  {
   "cell_type": "markdown",
   "id": "e2a863dc",
   "metadata": {},
   "source": [
    "Рассмотрим уникальные значения по столбцам, воспользуемся методом `check_columns()`."
   ]
  },
  {
   "cell_type": "code",
   "execution_count": 13,
   "id": "d54ab0a9",
   "metadata": {},
   "outputs": [
    {
     "name": "stdout",
     "output_type": "stream",
     "text": [
      "Количество уникальных значений столбца пол - 2\n",
      "[0 1]\n",
      "____________________________________\n",
      "Количество уникальных значений столбца возраст - 46\n",
      "[18. 19. 20. 21. 22. 23. 24. 25. 26. 27. 28. 29. 30. 31. 32. 33. 34. 35.\n",
      " 36. 37. 38. 39. 40. 41. 42. 43. 44. 45. 46. 47. 48. 49. 50. 51. 52. 53.\n",
      " 54. 55. 56. 57. 58. 59. 60. 61. 62. 65.]\n",
      "____________________________________\n",
      "Количество уникальных значений столбца зарплата - 524\n",
      "[ 5300.  6000.  7400.  8900.  9800. 10000. 10600. 10800. 11000. 11200.\n",
      " 11300. 12200. 12900. 13000. 13200. 13300. 13400. 13500. 13800. 13900.\n",
      " 14100. 14300. 14400. 14500. 14600. 14700. 15000. 15100. 15200. 15600.\n",
      " 15700. 15900. 16000. 16200. 16300. 16400. 16500. 16600. 16700. 17000.\n",
      " 17100. 17300. 17400. 17500. 17600. 17700. 17800. 17900. 18100. 18200.\n",
      " 18300. 18400. 18600. 18700. 18800. 18900. 19000. 19100. 19200. 19300.\n",
      " 19400. 19600. 19700. 19900. 20000. 20100. 20200. 20300. 20400. 20500.\n",
      " 20600. 20700. 20800. 20900. 21000. 21100. 21200. 21300. 21400. 21500.\n",
      " 21600. 21700. 21800. 21900. 22000. 22100. 22200. 22300. 22500. 22600.\n",
      " 22700. 22800. 22900. 23000. 23100. 23200. 23300. 23400. 23500. 23600.\n",
      " 23700. 23800. 23900. 24000. 24100. 24200. 24300. 24400. 24500. 24600.\n",
      " 24700. 24800. 24900. 25000. 25100. 25200. 25300. 25400. 25500. 25600.\n",
      " 25700. 25800. 25900. 26000. 26100. 26200. 26300. 26400. 26500. 26600.\n",
      " 26700. 26800. 26900. 27000. 27100. 27200. 27300. 27400. 27500. 27600.\n",
      " 27700. 27800. 27900. 28000. 28100. 28200. 28300. 28400. 28500. 28600.\n",
      " 28700. 28800. 28900. 29000. 29100. 29200. 29300. 29400. 29500. 29600.\n",
      " 29700. 29800. 29900. 30000. 30100. 30200. 30300. 30400. 30500. 30600.\n",
      " 30700. 30800. 30900. 31000. 31100. 31200. 31300. 31400. 31500. 31600.\n",
      " 31700. 31800. 31900. 32000. 32100. 32200. 32300. 32400. 32500. 32600.\n",
      " 32700. 32800. 32900. 33000. 33100. 33200. 33300. 33400. 33500. 33600.\n",
      " 33700. 33800. 33900. 34000. 34100. 34200. 34300. 34400. 34500. 34600.\n",
      " 34700. 34800. 34900. 35000. 35100. 35200. 35300. 35400. 35500. 35600.\n",
      " 35700. 35800. 35900. 36000. 36100. 36200. 36300. 36400. 36500. 36600.\n",
      " 36700. 36800. 36900. 37000. 37100. 37200. 37300. 37400. 37500. 37600.\n",
      " 37700. 37800. 37900. 38000. 38100. 38200. 38300. 38400. 38500. 38600.\n",
      " 38700. 38800. 38900. 39000. 39100. 39200. 39300. 39400. 39500. 39600.\n",
      " 39700. 39800. 39900. 40000. 40100. 40200. 40300. 40400. 40500. 40600.\n",
      " 40700. 40800. 40900. 41000. 41100. 41200. 41300. 41400. 41500. 41600.\n",
      " 41700. 41800. 41900. 42000. 42100. 42200. 42300. 42400. 42500. 42600.\n",
      " 42700. 42800. 42900. 43000. 43100. 43200. 43300. 43400. 43500. 43600.\n",
      " 43700. 43800. 43900. 44000. 44100. 44200. 44300. 44400. 44500. 44600.\n",
      " 44700. 44800. 44900. 45000. 45100. 45200. 45300. 45400. 45500. 45600.\n",
      " 45700. 45800. 45900. 46000. 46100. 46200. 46300. 46400. 46500. 46600.\n",
      " 46700. 46800. 46900. 47000. 47100. 47200. 47300. 47400. 47500. 47600.\n",
      " 47700. 47800. 47900. 48000. 48100. 48200. 48300. 48400. 48500. 48600.\n",
      " 48700. 48800. 48900. 49000. 49100. 49200. 49300. 49400. 49500. 49600.\n",
      " 49700. 49800. 49900. 50000. 50100. 50200. 50300. 50400. 50500. 50600.\n",
      " 50700. 50800. 50900. 51000. 51100. 51200. 51300. 51400. 51500. 51600.\n",
      " 51700. 51800. 51900. 52000. 52100. 52200. 52300. 52400. 52500. 52600.\n",
      " 52700. 52800. 52900. 53000. 53100. 53200. 53300. 53400. 53500. 53600.\n",
      " 53700. 53800. 53900. 54000. 54100. 54200. 54300. 54400. 54500. 54600.\n",
      " 54700. 54800. 54900. 55000. 55100. 55200. 55300. 55400. 55500. 55600.\n",
      " 55700. 55800. 55900. 56000. 56100. 56200. 56300. 56400. 56500. 56600.\n",
      " 56700. 56800. 56900. 57000. 57100. 57200. 57300. 57400. 57500. 57600.\n",
      " 57700. 57800. 57900. 58000. 58100. 58200. 58300. 58400. 58500. 58600.\n",
      " 58700. 58800. 58900. 59000. 59100. 59200. 59300. 59500. 59600. 59700.\n",
      " 59800. 59900. 60000. 60100. 60200. 60300. 60400. 60500. 60600. 60700.\n",
      " 60900. 61000. 61200. 61300. 61400. 61500. 61700. 61800. 61900. 62000.\n",
      " 62100. 62200. 62300. 62400. 62500. 62600. 62700. 62800. 63100. 63200.\n",
      " 63300. 63400. 63500. 63600. 63700. 63800. 64000. 64100. 64400. 64800.\n",
      " 64900. 65100. 65200. 65300. 65900. 66100. 66300. 67100. 67200. 67700.\n",
      " 68000. 68400. 68500. 68900. 69200. 69400. 70000. 70500. 70600. 71400.\n",
      " 71600. 74800. 75200. 79000.]\n",
      "____________________________________\n",
      "Количество уникальных значений столбца члены_семьи - 7\n",
      "[0 1 2 3 4 5 6]\n",
      "____________________________________\n",
      "Количество уникальных значений столбца страховые_выплаты - 6\n",
      "[0 1 2 3 4 5]\n",
      "____________________________________\n"
     ]
    }
   ],
   "source": [
    "check_columns(data)"
   ]
  },
  {
   "cell_type": "markdown",
   "id": "e9afb672",
   "metadata": {},
   "source": [
    "На первый взгляд данные нормальные, каких-либо аномальных значений не наблюдается.\n",
    "\n",
    "Переведем значения в столбцах `возраст` и `зарплата` из `float` в `int`."
   ]
  },
  {
   "cell_type": "code",
   "execution_count": 14,
   "id": "982d1f4e",
   "metadata": {},
   "outputs": [],
   "source": [
    "data['возраст'] = data['возраст'].astype(int)\n",
    "data['зарплата'] = data['зарплата'].astype(int)"
   ]
  },
  {
   "cell_type": "markdown",
   "id": "15263e28",
   "metadata": {},
   "source": [
    "Посмотрим на количество дубликатов в таблице"
   ]
  },
  {
   "cell_type": "code",
   "execution_count": 15,
   "id": "2ce3bc91",
   "metadata": {},
   "outputs": [
    {
     "data": {
      "text/plain": [
       "153"
      ]
     },
     "execution_count": 15,
     "metadata": {},
     "output_type": "execute_result"
    }
   ],
   "source": [
    "data.duplicated().sum()"
   ]
  },
  {
   "cell_type": "markdown",
   "id": "8a4ccdc4",
   "metadata": {},
   "source": [
    "Так как основная задача проекта заключается в шифровании данных клиентов и мы не знаем что явилось причиной возникновения дубликатов - возможно это разные клиенты с одинаковыми данными, а возможно задваивание произошло по техническим причинам или по ошибке оператора. Удалять дубликаты на начальной выборке не будем. Создадим копии датасета и на копии удалим дубликаты.\n",
    "\n",
    "Дубликаты составляют всего 3% от всех данных, их можно оставить без серьезных последствий для результата регрессии.\n",
    "\n",
    "Но есть и негативные факторы влияния дубликатов на качество модели:\n",
    "\n",
    "- В случае, если дубликаты представляют собой дополнительные наблюдения с одинаковыми значениями признаков и целевой переменной, модель может подстроиться под эти дубликаты и переобучиться на них.\n",
    "\n",
    "- Дубликаты могут оказать влияние на способность модели обобщать на новые данные. В результате, модель может показывать недостаточно хорошие результаты на реальных тестовых данных.\n",
    "\n",
    "- В некоторых случаях, дубликаты могут исказить статистику и влиять на важность признаков. Например, если дубликаты сосредоточены в определенном диапазоне значений, это может повлиять на восприятие моделью важности других признаков.\n",
    "\n",
    "Если дубликаты составляют не большой процент данных и нет особых причин полагать, что они искажают структуру данных или вводят сильное смещение, то вероятность серьезного влияния на результат регрессии довольно низкая. \n",
    "\n",
    "В дальнейшем посмотрим оказывают ли дубликаты влияние на качество модели."
   ]
  },
  {
   "cell_type": "markdown",
   "id": "100b9664",
   "metadata": {},
   "source": [
    "Удалим дубликаты на копии датасета."
   ]
  },
  {
   "cell_type": "code",
   "execution_count": 16,
   "id": "03c6c813",
   "metadata": {},
   "outputs": [],
   "source": [
    "# копия датасета, на которай проведем удаление дубликатов\n",
    "data_cut = data.copy()\n",
    "data_cut = data_cut.drop_duplicates().reset_index(drop = True)"
   ]
  },
  {
   "cell_type": "code",
   "execution_count": 17,
   "id": "dc912acb",
   "metadata": {},
   "outputs": [
    {
     "name": "stdout",
     "output_type": "stream",
     "text": [
      "Число дубликатов в датасете: 0\n",
      "_______________________\n",
      "<class 'pandas.core.frame.DataFrame'>\n",
      "RangeIndex: 4847 entries, 0 to 4846\n",
      "Data columns (total 5 columns):\n",
      " #   Column             Non-Null Count  Dtype\n",
      "---  ------             --------------  -----\n",
      " 0   пол                4847 non-null   int64\n",
      " 1   возраст            4847 non-null   int64\n",
      " 2   зарплата           4847 non-null   int64\n",
      " 3   члены_семьи        4847 non-null   int64\n",
      " 4   страховые_выплаты  4847 non-null   int64\n",
      "dtypes: int64(5)\n",
      "memory usage: 189.5 KB\n"
     ]
    }
   ],
   "source": [
    "print(\"Число дубликатов в датасете:\", data_cut.duplicated().sum())\n",
    "print(\"_______________________\",)\n",
    "data_cut.info()"
   ]
  },
  {
   "cell_type": "markdown",
   "id": "1f1edfc2",
   "metadata": {},
   "source": [
    "Удалили 153 объекта, датасет созданный на копии уменьшился до 4847 строк."
   ]
  },
  {
   "cell_type": "markdown",
   "id": "3499365d",
   "metadata": {},
   "source": [
    "Посмотрим на распеределение признаков на полном датасета"
   ]
  },
  {
   "cell_type": "code",
   "execution_count": 18,
   "id": "fbf1020f",
   "metadata": {},
   "outputs": [
    {
     "data": {
      "image/png": "[encoded data removed]",
      "text/plain": [
       "<Figure size 1440x1080 with 6 Axes>"
      ]
     },
     "metadata": {
      "needs_background": "light"
     },
     "output_type": "display_data"
    }
   ],
   "source": [
    "data.hist(bins=50, figsize=(20,15), color='c', edgecolor='black', linewidth=1)\n",
    "plt.show()"
   ]
  },
  {
   "cell_type": "markdown",
   "id": "8bbf09db",
   "metadata": {},
   "source": [
    "Наблюдаем одинаковое количество клиентов разного пола. \n",
    "\n",
    "Гистограмма возраста показывает большую часть равномерное распределение, а потом перекос в право - это обусловленно возрастом вхождения в договорные отношения, с 35 летнего возраста наблюдается снижение количества пользователей страхового сервиса.\n",
    "\n",
    "Распределение зарплаты нормальное.\n",
    "\n",
    "Чаще всего клиенты одинокие люди ли имеют одного члена в семье.\n",
    "\n",
    "Страховые выплаты - редкое явление."
   ]
  },
  {
   "cell_type": "markdown",
   "id": "28ad3e71",
   "metadata": {},
   "source": [
    "Посмотрим имеются ли выбросы в данных по столбцам `возраст`, `зарплата`, `члены_семьи`."
   ]
  },
  {
   "cell_type": "code",
   "execution_count": 19,
   "id": "b36c098b",
   "metadata": {},
   "outputs": [
    {
     "data": {
      "image/png": "[encoded data removed]",
      "text/plain": [
       "<Figure size 1440x360 with 3 Axes>"
      ]
     },
     "metadata": {
      "needs_background": "light"
     },
     "output_type": "display_data"
    }
   ],
   "source": [
    "boxplot_df(data_cut[['возраст', 'зарплата', 'члены_семьи']], 'Боксплот для признаков датасета')"
   ]
  },
  {
   "cell_type": "markdown",
   "id": "3cbf90ff",
   "metadata": {},
   "source": [
    "Боксплот показывает, что в столбцах есть данные, выходящие за границы нормальных значений:\n",
    "\n",
    "- `возраст` клиенты после 55 лет редко встречаются в выборке,\n",
    "\n",
    "- `зарплата` - медианное значение 40000, выбросы есть как в минимуме и так и максимальный значениях,\n",
    "\n",
    "- `члены_семьи` - более 5 человек редко встречается."
   ]
  },
  {
   "cell_type": "markdown",
   "id": "723e27b6",
   "metadata": {},
   "source": [
    "Эти данные будут мешать модели обучаться, отвлекая её. Поэтому их необходимо удалить.\n",
    "\n",
    "Удалим выбросы, для этого создадим копию датасета и в дальнейшем будем рассматривать данных с выбросами и без.\n",
    "\n",
    "Вызовем метод `find_outliers()` для удаления выбросов по рассмотреным столбцам."
   ]
  },
  {
   "cell_type": "code",
   "execution_count": 20,
   "id": "32addba8",
   "metadata": {},
   "outputs": [
    {
     "name": "stdout",
     "output_type": "stream",
     "text": [
      "Количество строк, выбранных для удаления в столбце возраст :  12\n",
      "Процент удаленных данных 0.25\n",
      "___________________________________________________________\n",
      "Количество строк, выбранных для удаления в столбце зарплата :  34\n",
      "Процент удаленных данных 0.70\n",
      "___________________________________________________________\n",
      "Количество строк, выбранных для удаления в столбце члены_семьи :  39\n",
      "Процент удаленных данных 0.81\n",
      "___________________________________________________________\n"
     ]
    }
   ],
   "source": [
    "# столбцы с выбросами\n",
    "outlier_columns = [(data_cut,\"возраст\"), (data_cut,\"зарплата\"), (data_cut,\"члены_семьи\")]\n",
    "\n",
    "# удалим выбросы, возовем метод find_outliers()\n",
    "for df_cut,column in outlier_columns:    \n",
    "    indexes = find_outliers(df_cut,column)    \n",
    "    df_cut = df_cut.drop(indexes,axis = 0,inplace = True)"
   ]
  },
  {
   "cell_type": "markdown",
   "id": "65778dc3",
   "metadata": {},
   "source": [
    "Данные датасет уменьшились не значительно. Удалили 1.8% данных."
   ]
  },
  {
   "cell_type": "markdown",
   "id": "d4ecbe60",
   "metadata": {},
   "source": [
    "**Вывод**\n",
    "\n",
    "В процессе ознакомления с данными и предобработки выявленно следующее:\n",
    "\n",
    "- пропуски в данных - отсутствуют,\n",
    "\n",
    "- типы данных в столбцах - корректны,\n",
    "\n",
    "- названия столбцов корректны (преобразовали),\n",
    "\n",
    "- дубликаты - удалили,\n",
    "\n",
    "- выбросы - удалены, для этого создана копия основного датасета,\n",
    "\n",
    "- за целевой признак примем столбец страховые_выплаты, остальные столбцы - признаки, по которым будем проводить предсказывание целевого признака,\n",
    "\n",
    "- для предсказания целевого признака будем использовать линейную регрессию."
   ]
  },
  {
   "cell_type": "markdown",
   "id": "75203ea5",
   "metadata": {},
   "source": [
    "<a id = 'algorithm'></a>"
   ]
  },
  {
   "cell_type": "markdown",
   "id": "9d9ff869",
   "metadata": {},
   "source": [
    "## Алгоритм преобразования"
   ]
  },
  {
   "cell_type": "markdown",
   "id": "c7b9e335",
   "metadata": {},
   "source": [
    "Предложим алгоритм преобразования данных для решения задачи проекта. \n",
    "\n",
    "Обоснуем, почему качество линейной регрессии не поменяется."
   ]
  },
  {
   "cell_type": "markdown",
   "id": "fafebe0d",
   "metadata": {},
   "source": [
    "Для защиты информации на этапе поиска коэффициентов регрессии и предсказаний регрессии будем умножать матрицу признаков на обратимую матрицу `P` , которая будет генерироваться случайным образом.\n",
    "\n",
    "Этапы алгоритма:\n",
    "\n",
    "- Генерация случайной обратимой матрицы: Сгенерируем случайную матрицу `P` такого же размера, что и матрица `X`, и удостоверимся, что она обратима.\n",
    "\n",
    "- Построение зашифрованных данных: Для шифрования умножим матрицу `X` на сгенерированную обратимую матрицу `P`. Получим зашифрованные данные `Z`:\n",
    "\n",
    "$$\n",
    "Z = XP\n",
    "$$\n",
    "\n",
    "- Построение регрессионной модели: Постройм линейную регрессионную модель, используя зашифрованные данные `Z` в качестве входных данных и соответствующие выходные данные `a1`. Найдем коэффициенты регрессии (веса) с помощью обучения модели на зашифрованных данных.\n",
    "\n",
    "\n",
    "- Восстановление исходных данных:  для восстановления исходных данных `X` из преобразованных данных `Z` можно использовать обратную матрицу $P^{-1}$ умножив матрицу зашифрованных признаков `Z` на обратную матрицу  $P^{-1}$:\n",
    "\n",
    "$$\n",
    "X = ZP^{-1}\n",
    "$$"
   ]
  },
  {
   "cell_type": "markdown",
   "id": "f6a738e1",
   "metadata": {},
   "source": [
    "Так как по условию задачи случайно сгенерированная матрица `P` при умножении на матрицу признаков `Х` должна давать матрицу такого же размера как исходная, а матрица `P` должна быть квадратной, то размер матрицы `P` устрановим равным количеству признаков матрицы `Х`. \n",
    "Имем 4 признака в оcновной матрице, значит сгенерируем матрицу `P`размером 4х4."
   ]
  },
  {
   "cell_type": "code",
   "execution_count": 21,
   "id": "4c3702c3",
   "metadata": {},
   "outputs": [
    {
     "data": {
      "text/plain": [
       "array([[28, 81, 78, 63],\n",
       "       [80, 95, 63, 49],\n",
       "       [23, 14, 10, 77],\n",
       "       [41,  4, 69, 17]])"
      ]
     },
     "execution_count": 21,
     "metadata": {},
     "output_type": "execute_result"
    }
   ],
   "source": [
    "p_matrix = np.random.randint(100,size = (4, 4))\n",
    "p_matrix"
   ]
  },
  {
   "cell_type": "markdown",
   "id": "4d58bea1",
   "metadata": {},
   "source": [
    "Теперь проверим сгенерированную матрицу на обратимость, если матрица не обратима получим ошибку."
   ]
  },
  {
   "cell_type": "code",
   "execution_count": 22,
   "id": "c765efdd",
   "metadata": {},
   "outputs": [
    {
     "data": {
      "text/plain": [
       "array([[-0.0177213 ,  0.01424748,  0.00401018,  0.00644302],\n",
       "       [ 0.0072496 ,  0.00589208, -0.00690487, -0.01257422],\n",
       "       [ 0.00943217, -0.00774275, -0.00536823,  0.01167778],\n",
       "       [ 0.00275031, -0.00432148,  0.01374177, -0.00115491]])"
      ]
     },
     "execution_count": 22,
     "metadata": {},
     "output_type": "execute_result"
    }
   ],
   "source": [
    "p_matrix_inverted = np.linalg.inv(p_matrix)\n",
    "p_matrix_inverted"
   ]
  },
  {
   "cell_type": "markdown",
   "id": "1f814fc0",
   "metadata": {},
   "source": [
    "Ранее мы доказали, что предсказания модели алгоритма машинного обучения при преобразовании матрицы признаков не поменяются. \n",
    "\n",
    "Качество модели при преобразовании матрицы признаков на случайную обратимую матрицу может остаться практически неизменным по следующим причинам:\n",
    "\n",
    "- линейная регрессия, если мы преобразуем входные данные-признаки линейно (умножением на обратимую матрицу), найдет для новых приобразованных признаков решение такое же, как и для исходных признаков,\n",
    "\n",
    "- обратимая матрица сохраняет линейные зависимости между признаками, обратимая матрица является невырожденной и не уничтожает информацию о линейных взаимосвязях между признаками,\n",
    "\n",
    "- мы используем случайную обратимую матрицу, изменения, которые она внесет в данные, могут быть разнообразными и случайными. При этом сохраняется общий характер данных и их линейные зависимости, что позволяет модели оставаться пригодной для предсказаний,\n",
    "\n",
    "- умножение матрицы признаков на обратимую матрицу может изменить значения коэффициентов линейной регрессии, но они останутся пропорциональными исходным, то есть общая форма зависимостей в данных сохранится. \n",
    "\n",
    "Тестирование и анализ результатов после преобразования данных подтвердит или опровергнет изложенное.\n",
    "\n",
    "Подкрепим теоритические выводы примером на данных из датасета. \n",
    "\n",
    "Для этого расчитаем вектора предсказаний  `a` и  `a1` по формулам и сравним их между собой."
   ]
  },
  {
   "cell_type": "markdown",
   "id": "a10a377a",
   "metadata": {},
   "source": [
    "Выделим независимые признаки и целевой признак в исходном датасете и датасете на очищенных от выбросов данных, вопользуемся методом `split_scaled_df()`."
   ]
  },
  {
   "cell_type": "code",
   "execution_count": 23,
   "id": "e9c3ee4b",
   "metadata": {},
   "outputs": [
    {
     "name": "stdout",
     "output_type": "stream",
     "text": [
      "Размер выборки с независимыми признаками (5000, 4)\n",
      "Размер выборки с целевым признаком (5000,)\n",
      "Размер выборки с масштабированными независимыми признаками (5000, 4)\n"
     ]
    }
   ],
   "source": [
    "#выделение признаков в исходном датасете и масштабирование данных\n",
    "X, y, X_scaled = split_scaled_df(data)"
   ]
  },
  {
   "cell_type": "code",
   "execution_count": 24,
   "id": "d2a1536b",
   "metadata": {},
   "outputs": [
    {
     "name": "stdout",
     "output_type": "stream",
     "text": [
      "Размер выборки с независимыми признаками (4762, 4)\n",
      "Размер выборки с целевым признаком (4762,)\n",
      "Размер выборки с масштабированными независимыми признаками (4762, 4)\n"
     ]
    }
   ],
   "source": [
    "#выделение признаков в очищенном от выбросов датасете  и масштабирование данных\n",
    "X_cut, y_cut, X_cut_scaled = split_scaled_df(data_cut)"
   ]
  },
  {
   "cell_type": "markdown",
   "id": "320b22d5",
   "metadata": {},
   "source": [
    "Проверим измениться или качество предсказания после преобразования признаков, воспользуемся методом `transform_matrix()`. Данный метод пройдется по алгоритму преобразования, подсчитает предсказания по исходных данных и перобразованных, проверит , что расхождения в предсказаниях незначительные. "
   ]
  },
  {
   "cell_type": "code",
   "execution_count": 25,
   "id": "989aed6b",
   "metadata": {},
   "outputs": [
    {
     "name": "stdout",
     "output_type": "stream",
     "text": [
      "Преобразованная матрица с искусственным столбцом с единицами\n"
     ]
    },
    {
     "data": {
      "text/html": [
       "<div>\n",
       "<style scoped>\n",
       "    .dataframe tbody tr th:only-of-type {\n",
       "        vertical-align: middle;\n",
       "    }\n",
       "\n",
       "    .dataframe tbody tr th {\n",
       "        vertical-align: top;\n",
       "    }\n",
       "\n",
       "    .dataframe thead th {\n",
       "        text-align: right;\n",
       "    }\n",
       "</style>\n",
       "<table border=\"1\" class=\"dataframe\">\n",
       "  <thead>\n",
       "    <tr style=\"text-align: right;\">\n",
       "      <th></th>\n",
       "      <th>0</th>\n",
       "      <th>1</th>\n",
       "      <th>2</th>\n",
       "      <th>3</th>\n",
       "      <th>4</th>\n",
       "    </tr>\n",
       "  </thead>\n",
       "  <tbody>\n",
       "    <tr>\n",
       "      <th>0</th>\n",
       "      <td>1.0</td>\n",
       "      <td>1144149.0</td>\n",
       "      <td>698380.0</td>\n",
       "      <td>498730.0</td>\n",
       "      <td>3821289.0</td>\n",
       "    </tr>\n",
       "    <tr>\n",
       "      <th>1</th>\n",
       "      <td>1.0</td>\n",
       "      <td>877721.0</td>\n",
       "      <td>536374.0</td>\n",
       "      <td>382967.0</td>\n",
       "      <td>2928271.0</td>\n",
       "    </tr>\n",
       "    <tr>\n",
       "      <th>2</th>\n",
       "      <td>1.0</td>\n",
       "      <td>485320.0</td>\n",
       "      <td>296755.0</td>\n",
       "      <td>211827.0</td>\n",
       "      <td>1618421.0</td>\n",
       "    </tr>\n",
       "    <tr>\n",
       "      <th>3</th>\n",
       "      <td>1.0</td>\n",
       "      <td>960862.0</td>\n",
       "      <td>585803.0</td>\n",
       "      <td>418461.0</td>\n",
       "      <td>3211963.0</td>\n",
       "    </tr>\n",
       "    <tr>\n",
       "      <th>4</th>\n",
       "      <td>1.0</td>\n",
       "      <td>602568.0</td>\n",
       "      <td>368141.0</td>\n",
       "      <td>262842.0</td>\n",
       "      <td>2011135.0</td>\n",
       "    </tr>\n",
       "    <tr>\n",
       "      <th>...</th>\n",
       "      <td>...</td>\n",
       "      <td>...</td>\n",
       "      <td>...</td>\n",
       "      <td>...</td>\n",
       "      <td>...</td>\n",
       "    </tr>\n",
       "    <tr>\n",
       "      <th>4995</th>\n",
       "      <td>1.0</td>\n",
       "      <td>823422.0</td>\n",
       "      <td>502468.0</td>\n",
       "      <td>358902.0</td>\n",
       "      <td>2750306.0</td>\n",
       "    </tr>\n",
       "    <tr>\n",
       "      <th>4996</th>\n",
       "      <td>1.0</td>\n",
       "      <td>1207961.0</td>\n",
       "      <td>736834.0</td>\n",
       "      <td>526211.0</td>\n",
       "      <td>4036483.0</td>\n",
       "    </tr>\n",
       "    <tr>\n",
       "      <th>4997</th>\n",
       "      <td>1.0</td>\n",
       "      <td>781382.0</td>\n",
       "      <td>476508.0</td>\n",
       "      <td>340398.0</td>\n",
       "      <td>2611314.0</td>\n",
       "    </tr>\n",
       "    <tr>\n",
       "      <th>4998</th>\n",
       "      <td>1.0</td>\n",
       "      <td>754011.0</td>\n",
       "      <td>459983.0</td>\n",
       "      <td>328671.0</td>\n",
       "      <td>2519092.0</td>\n",
       "    </tr>\n",
       "    <tr>\n",
       "      <th>4999</th>\n",
       "      <td>1.0</td>\n",
       "      <td>936109.0</td>\n",
       "      <td>571145.0</td>\n",
       "      <td>407911.0</td>\n",
       "      <td>3127652.0</td>\n",
       "    </tr>\n",
       "  </tbody>\n",
       "</table>\n",
       "<p>5000 rows × 5 columns</p>\n",
       "</div>"
      ],
      "text/plain": [
       "        0          1         2         3          4\n",
       "0     1.0  1144149.0  698380.0  498730.0  3821289.0\n",
       "1     1.0   877721.0  536374.0  382967.0  2928271.0\n",
       "2     1.0   485320.0  296755.0  211827.0  1618421.0\n",
       "3     1.0   960862.0  585803.0  418461.0  3211963.0\n",
       "4     1.0   602568.0  368141.0  262842.0  2011135.0\n",
       "...   ...        ...       ...       ...        ...\n",
       "4995  1.0   823422.0  502468.0  358902.0  2750306.0\n",
       "4996  1.0  1207961.0  736834.0  526211.0  4036483.0\n",
       "4997  1.0   781382.0  476508.0  340398.0  2611314.0\n",
       "4998  1.0   754011.0  459983.0  328671.0  2519092.0\n",
       "4999  1.0   936109.0  571145.0  407911.0  3127652.0\n",
       "\n",
       "[5000 rows x 5 columns]"
      ]
     },
     "metadata": {},
     "output_type": "display_data"
    },
    {
     "name": "stdout",
     "output_type": "stream",
     "text": [
      "Результат проверки качества модели: разниц между предсказаниями по исходным признакам  𝑎 и преобразованным 𝑎1 -2.9156863372360384e-05\n"
     ]
    }
   ],
   "source": [
    "#для исходных признаков (на не масштабированных данных) \n",
    "X_p = transform_matrix(X, y, p_matrix)"
   ]
  },
  {
   "cell_type": "code",
   "execution_count": 26,
   "id": "d38d1463",
   "metadata": {},
   "outputs": [
    {
     "data": {
      "text/html": [
       "<div>\n",
       "<style scoped>\n",
       "    .dataframe tbody tr th:only-of-type {\n",
       "        vertical-align: middle;\n",
       "    }\n",
       "\n",
       "    .dataframe tbody tr th {\n",
       "        vertical-align: top;\n",
       "    }\n",
       "\n",
       "    .dataframe thead th {\n",
       "        text-align: right;\n",
       "    }\n",
       "</style>\n",
       "<table border=\"1\" class=\"dataframe\">\n",
       "  <thead>\n",
       "    <tr style=\"text-align: right;\">\n",
       "      <th></th>\n",
       "      <th>0</th>\n",
       "      <th>1</th>\n",
       "      <th>2</th>\n",
       "      <th>3</th>\n",
       "    </tr>\n",
       "  </thead>\n",
       "  <tbody>\n",
       "    <tr>\n",
       "      <th>0</th>\n",
       "      <td>1</td>\n",
       "      <td>41</td>\n",
       "      <td>49600</td>\n",
       "      <td>1</td>\n",
       "    </tr>\n",
       "    <tr>\n",
       "      <th>1</th>\n",
       "      <td>0</td>\n",
       "      <td>46</td>\n",
       "      <td>38000</td>\n",
       "      <td>1</td>\n",
       "    </tr>\n",
       "    <tr>\n",
       "      <th>2</th>\n",
       "      <td>0</td>\n",
       "      <td>29</td>\n",
       "      <td>21000</td>\n",
       "      <td>0</td>\n",
       "    </tr>\n",
       "    <tr>\n",
       "      <th>3</th>\n",
       "      <td>0</td>\n",
       "      <td>21</td>\n",
       "      <td>41700</td>\n",
       "      <td>2</td>\n",
       "    </tr>\n",
       "    <tr>\n",
       "      <th>4</th>\n",
       "      <td>1</td>\n",
       "      <td>28</td>\n",
       "      <td>26100</td>\n",
       "      <td>0</td>\n",
       "    </tr>\n",
       "    <tr>\n",
       "      <th>...</th>\n",
       "      <td>...</td>\n",
       "      <td>...</td>\n",
       "      <td>...</td>\n",
       "      <td>...</td>\n",
       "    </tr>\n",
       "    <tr>\n",
       "      <th>4995</th>\n",
       "      <td>0</td>\n",
       "      <td>28</td>\n",
       "      <td>35700</td>\n",
       "      <td>2</td>\n",
       "    </tr>\n",
       "    <tr>\n",
       "      <th>4996</th>\n",
       "      <td>0</td>\n",
       "      <td>34</td>\n",
       "      <td>52400</td>\n",
       "      <td>1</td>\n",
       "    </tr>\n",
       "    <tr>\n",
       "      <th>4997</th>\n",
       "      <td>0</td>\n",
       "      <td>20</td>\n",
       "      <td>33900</td>\n",
       "      <td>2</td>\n",
       "    </tr>\n",
       "    <tr>\n",
       "      <th>4998</th>\n",
       "      <td>1</td>\n",
       "      <td>22</td>\n",
       "      <td>32700</td>\n",
       "      <td>3</td>\n",
       "    </tr>\n",
       "    <tr>\n",
       "      <th>4999</th>\n",
       "      <td>1</td>\n",
       "      <td>28</td>\n",
       "      <td>40600</td>\n",
       "      <td>1</td>\n",
       "    </tr>\n",
       "  </tbody>\n",
       "</table>\n",
       "<p>5000 rows × 4 columns</p>\n",
       "</div>"
      ],
      "text/plain": [
       "      0   1      2  3\n",
       "0     1  41  49600  1\n",
       "1     0  46  38000  1\n",
       "2     0  29  21000  0\n",
       "3     0  21  41700  2\n",
       "4     1  28  26100  0\n",
       "...  ..  ..    ... ..\n",
       "4995  0  28  35700  2\n",
       "4996  0  34  52400  1\n",
       "4997  0  20  33900  2\n",
       "4998  1  22  32700  3\n",
       "4999  1  28  40600  1\n",
       "\n",
       "[5000 rows x 4 columns]"
      ]
     },
     "execution_count": 26,
     "metadata": {},
     "output_type": "execute_result"
    }
   ],
   "source": [
    "#Дешифруем матрицу\n",
    "X_returned = X_p.dot(np.linalg.inv(p_matrix)) \n",
    "    \n",
    "#Выведем данные после дешифровки\n",
    "pd.DataFrame(X_returned.round().astype (int))"
   ]
  },
  {
   "cell_type": "markdown",
   "id": "a3b3eb19",
   "metadata": {},
   "source": [
    "Данные не изменились при дешифровки."
   ]
  },
  {
   "cell_type": "code",
   "execution_count": 27,
   "id": "6f4522ff",
   "metadata": {},
   "outputs": [
    {
     "name": "stdout",
     "output_type": "stream",
     "text": [
      "Преобразованная матрица с искусственным столбцом с единицами\n"
     ]
    },
    {
     "data": {
      "text/html": [
       "<div>\n",
       "<style scoped>\n",
       "    .dataframe tbody tr th:only-of-type {\n",
       "        vertical-align: middle;\n",
       "    }\n",
       "\n",
       "    .dataframe tbody tr th {\n",
       "        vertical-align: top;\n",
       "    }\n",
       "\n",
       "    .dataframe thead th {\n",
       "        text-align: right;\n",
       "    }\n",
       "</style>\n",
       "<table border=\"1\" class=\"dataframe\">\n",
       "  <thead>\n",
       "    <tr style=\"text-align: right;\">\n",
       "      <th></th>\n",
       "      <th>0</th>\n",
       "      <th>1</th>\n",
       "      <th>2</th>\n",
       "      <th>3</th>\n",
       "      <th>4</th>\n",
       "    </tr>\n",
       "  </thead>\n",
       "  <tbody>\n",
       "    <tr>\n",
       "      <th>0</th>\n",
       "      <td>1.0</td>\n",
       "      <td>138.493789</td>\n",
       "      <td>207.236649</td>\n",
       "      <td>150.656707</td>\n",
       "      <td>193.756135</td>\n",
       "    </tr>\n",
       "    <tr>\n",
       "      <th>1</th>\n",
       "      <td>1.0</td>\n",
       "      <td>102.935284</td>\n",
       "      <td>85.110649</td>\n",
       "      <td>20.260588</td>\n",
       "      <td>6.553949</td>\n",
       "    </tr>\n",
       "    <tr>\n",
       "      <th>2</th>\n",
       "      <td>1.0</td>\n",
       "      <td>-135.272088</td>\n",
       "      <td>-133.948944</td>\n",
       "      <td>-187.037651</td>\n",
       "      <td>-239.955593</td>\n",
       "    </tr>\n",
       "    <tr>\n",
       "      <th>3</th>\n",
       "      <td>1.0</td>\n",
       "      <td>-87.865188</td>\n",
       "      <td>-187.390463</td>\n",
       "      <td>-99.385240</td>\n",
       "      <td>-94.230379</td>\n",
       "    </tr>\n",
       "    <tr>\n",
       "      <th>4</th>\n",
       "      <td>1.0</td>\n",
       "      <td>-76.901119</td>\n",
       "      <td>24.008189</td>\n",
       "      <td>-33.349840</td>\n",
       "      <td>-80.090748</td>\n",
       "    </tr>\n",
       "    <tr>\n",
       "      <th>...</th>\n",
       "      <td>...</td>\n",
       "      <td>...</td>\n",
       "      <td>...</td>\n",
       "      <td>...</td>\n",
       "      <td>...</td>\n",
       "    </tr>\n",
       "    <tr>\n",
       "      <th>4995</th>\n",
       "      <td>1.0</td>\n",
       "      <td>-35.454857</td>\n",
       "      <td>-117.084274</td>\n",
       "      <td>-53.194986</td>\n",
       "      <td>-100.261337</td>\n",
       "    </tr>\n",
       "    <tr>\n",
       "      <th>4996</th>\n",
       "      <td>1.0</td>\n",
       "      <td>22.648321</td>\n",
       "      <td>-29.595532</td>\n",
       "      <td>-54.766478</td>\n",
       "      <td>48.895669</td>\n",
       "    </tr>\n",
       "    <tr>\n",
       "      <th>4997</th>\n",
       "      <td>1.0</td>\n",
       "      <td>-115.466777</td>\n",
       "      <td>-209.677752</td>\n",
       "      <td>-114.729238</td>\n",
       "      <td>-160.708323</td>\n",
       "    </tr>\n",
       "    <tr>\n",
       "      <th>4998</th>\n",
       "      <td>1.0</td>\n",
       "      <td>-5.726721</td>\n",
       "      <td>-23.197176</td>\n",
       "      <td>118.216470</td>\n",
       "      <td>-16.852761</td>\n",
       "    </tr>\n",
       "    <tr>\n",
       "      <th>4999</th>\n",
       "      <td>1.0</td>\n",
       "      <td>-5.640511</td>\n",
       "      <td>48.180550</td>\n",
       "      <td>44.526622</td>\n",
       "      <td>48.275448</td>\n",
       "    </tr>\n",
       "  </tbody>\n",
       "</table>\n",
       "<p>5000 rows × 5 columns</p>\n",
       "</div>"
      ],
      "text/plain": [
       "        0           1           2           3           4\n",
       "0     1.0  138.493789  207.236649  150.656707  193.756135\n",
       "1     1.0  102.935284   85.110649   20.260588    6.553949\n",
       "2     1.0 -135.272088 -133.948944 -187.037651 -239.955593\n",
       "3     1.0  -87.865188 -187.390463  -99.385240  -94.230379\n",
       "4     1.0  -76.901119   24.008189  -33.349840  -80.090748\n",
       "...   ...         ...         ...         ...         ...\n",
       "4995  1.0  -35.454857 -117.084274  -53.194986 -100.261337\n",
       "4996  1.0   22.648321  -29.595532  -54.766478   48.895669\n",
       "4997  1.0 -115.466777 -209.677752 -114.729238 -160.708323\n",
       "4998  1.0   -5.726721  -23.197176  118.216470  -16.852761\n",
       "4999  1.0   -5.640511   48.180550   44.526622   48.275448\n",
       "\n",
       "[5000 rows x 5 columns]"
      ]
     },
     "metadata": {},
     "output_type": "display_data"
    },
    {
     "name": "stdout",
     "output_type": "stream",
     "text": [
      "Результат проверки качества модели: разниц между предсказаниями по исходным признакам  𝑎 и преобразованным 𝑎1 1.1846467275027084e-13\n"
     ]
    }
   ],
   "source": [
    "#для исходных признаков (на масштабированных данных) \n",
    "X_p_scaled = transform_matrix(X_scaled, y, p_matrix)"
   ]
  },
  {
   "cell_type": "code",
   "execution_count": 28,
   "id": "bfb78b01",
   "metadata": {},
   "outputs": [
    {
     "name": "stdout",
     "output_type": "stream",
     "text": [
      "Преобразованная матрица с искусственным столбцом с единицами\n"
     ]
    },
    {
     "data": {
      "text/html": [
       "<div>\n",
       "<style scoped>\n",
       "    .dataframe tbody tr th:only-of-type {\n",
       "        vertical-align: middle;\n",
       "    }\n",
       "\n",
       "    .dataframe tbody tr th {\n",
       "        vertical-align: top;\n",
       "    }\n",
       "\n",
       "    .dataframe thead th {\n",
       "        text-align: right;\n",
       "    }\n",
       "</style>\n",
       "<table border=\"1\" class=\"dataframe\">\n",
       "  <thead>\n",
       "    <tr style=\"text-align: right;\">\n",
       "      <th></th>\n",
       "      <th>0</th>\n",
       "      <th>1</th>\n",
       "      <th>2</th>\n",
       "      <th>3</th>\n",
       "      <th>4</th>\n",
       "    </tr>\n",
       "  </thead>\n",
       "  <tbody>\n",
       "    <tr>\n",
       "      <th>0</th>\n",
       "      <td>1.0</td>\n",
       "      <td>1144149.0</td>\n",
       "      <td>698380.0</td>\n",
       "      <td>498730.0</td>\n",
       "      <td>3821289.0</td>\n",
       "    </tr>\n",
       "    <tr>\n",
       "      <th>1</th>\n",
       "      <td>1.0</td>\n",
       "      <td>877721.0</td>\n",
       "      <td>536374.0</td>\n",
       "      <td>382967.0</td>\n",
       "      <td>2928271.0</td>\n",
       "    </tr>\n",
       "    <tr>\n",
       "      <th>2</th>\n",
       "      <td>1.0</td>\n",
       "      <td>485320.0</td>\n",
       "      <td>296755.0</td>\n",
       "      <td>211827.0</td>\n",
       "      <td>1618421.0</td>\n",
       "    </tr>\n",
       "    <tr>\n",
       "      <th>3</th>\n",
       "      <td>1.0</td>\n",
       "      <td>960862.0</td>\n",
       "      <td>585803.0</td>\n",
       "      <td>418461.0</td>\n",
       "      <td>3211963.0</td>\n",
       "    </tr>\n",
       "    <tr>\n",
       "      <th>4</th>\n",
       "      <td>1.0</td>\n",
       "      <td>602568.0</td>\n",
       "      <td>368141.0</td>\n",
       "      <td>262842.0</td>\n",
       "      <td>2011135.0</td>\n",
       "    </tr>\n",
       "    <tr>\n",
       "      <th>...</th>\n",
       "      <td>...</td>\n",
       "      <td>...</td>\n",
       "      <td>...</td>\n",
       "      <td>...</td>\n",
       "      <td>...</td>\n",
       "    </tr>\n",
       "    <tr>\n",
       "      <th>4757</th>\n",
       "      <td>1.0</td>\n",
       "      <td>823422.0</td>\n",
       "      <td>502468.0</td>\n",
       "      <td>358902.0</td>\n",
       "      <td>2750306.0</td>\n",
       "    </tr>\n",
       "    <tr>\n",
       "      <th>4758</th>\n",
       "      <td>1.0</td>\n",
       "      <td>1207961.0</td>\n",
       "      <td>736834.0</td>\n",
       "      <td>526211.0</td>\n",
       "      <td>4036483.0</td>\n",
       "    </tr>\n",
       "    <tr>\n",
       "      <th>4759</th>\n",
       "      <td>1.0</td>\n",
       "      <td>781382.0</td>\n",
       "      <td>476508.0</td>\n",
       "      <td>340398.0</td>\n",
       "      <td>2611314.0</td>\n",
       "    </tr>\n",
       "    <tr>\n",
       "      <th>4760</th>\n",
       "      <td>1.0</td>\n",
       "      <td>754011.0</td>\n",
       "      <td>459983.0</td>\n",
       "      <td>328671.0</td>\n",
       "      <td>2519092.0</td>\n",
       "    </tr>\n",
       "    <tr>\n",
       "      <th>4761</th>\n",
       "      <td>1.0</td>\n",
       "      <td>936109.0</td>\n",
       "      <td>571145.0</td>\n",
       "      <td>407911.0</td>\n",
       "      <td>3127652.0</td>\n",
       "    </tr>\n",
       "  </tbody>\n",
       "</table>\n",
       "<p>4762 rows × 5 columns</p>\n",
       "</div>"
      ],
      "text/plain": [
       "        0          1         2         3          4\n",
       "0     1.0  1144149.0  698380.0  498730.0  3821289.0\n",
       "1     1.0   877721.0  536374.0  382967.0  2928271.0\n",
       "2     1.0   485320.0  296755.0  211827.0  1618421.0\n",
       "3     1.0   960862.0  585803.0  418461.0  3211963.0\n",
       "4     1.0   602568.0  368141.0  262842.0  2011135.0\n",
       "...   ...        ...       ...       ...        ...\n",
       "4757  1.0   823422.0  502468.0  358902.0  2750306.0\n",
       "4758  1.0  1207961.0  736834.0  526211.0  4036483.0\n",
       "4759  1.0   781382.0  476508.0  340398.0  2611314.0\n",
       "4760  1.0   754011.0  459983.0  328671.0  2519092.0\n",
       "4761  1.0   936109.0  571145.0  407911.0  3127652.0\n",
       "\n",
       "[4762 rows x 5 columns]"
      ]
     },
     "metadata": {},
     "output_type": "display_data"
    },
    {
     "name": "stdout",
     "output_type": "stream",
     "text": [
      "Результат проверки качества модели: разниц между предсказаниями по исходным признакам  𝑎 и преобразованным 𝑎1 -1.5629795256440638e-05\n"
     ]
    }
   ],
   "source": [
    "#для исходных признаков (на очищенной выборке с немасштабированными данными) \n",
    "X_p_cut = transform_matrix(X_cut, y_cut, p_matrix)"
   ]
  },
  {
   "cell_type": "code",
   "execution_count": 29,
   "id": "6df117f0",
   "metadata": {},
   "outputs": [
    {
     "name": "stdout",
     "output_type": "stream",
     "text": [
      "Преобразованная матрица с искусственным столбцом с единицами\n"
     ]
    },
    {
     "data": {
      "text/html": [
       "<div>\n",
       "<style scoped>\n",
       "    .dataframe tbody tr th:only-of-type {\n",
       "        vertical-align: middle;\n",
       "    }\n",
       "\n",
       "    .dataframe tbody tr th {\n",
       "        vertical-align: top;\n",
       "    }\n",
       "\n",
       "    .dataframe thead th {\n",
       "        text-align: right;\n",
       "    }\n",
       "</style>\n",
       "<table border=\"1\" class=\"dataframe\">\n",
       "  <thead>\n",
       "    <tr style=\"text-align: right;\">\n",
       "      <th></th>\n",
       "      <th>0</th>\n",
       "      <th>1</th>\n",
       "      <th>2</th>\n",
       "      <th>3</th>\n",
       "      <th>4</th>\n",
       "    </tr>\n",
       "  </thead>\n",
       "  <tbody>\n",
       "    <tr>\n",
       "      <th>0</th>\n",
       "      <td>1.0</td>\n",
       "      <td>140.387073</td>\n",
       "      <td>208.726441</td>\n",
       "      <td>152.595058</td>\n",
       "      <td>196.336507</td>\n",
       "    </tr>\n",
       "    <tr>\n",
       "      <th>1</th>\n",
       "      <td>1.0</td>\n",
       "      <td>104.545073</td>\n",
       "      <td>86.632677</td>\n",
       "      <td>22.200017</td>\n",
       "      <td>7.212674</td>\n",
       "    </tr>\n",
       "    <tr>\n",
       "      <th>2</th>\n",
       "      <td>1.0</td>\n",
       "      <td>-137.580610</td>\n",
       "      <td>-134.605996</td>\n",
       "      <td>-189.440993</td>\n",
       "      <td>-243.906652</td>\n",
       "    </tr>\n",
       "    <tr>\n",
       "      <th>3</th>\n",
       "      <td>1.0</td>\n",
       "      <td>-86.057742</td>\n",
       "      <td>-187.683730</td>\n",
       "      <td>-95.774734</td>\n",
       "      <td>-93.244037</td>\n",
       "    </tr>\n",
       "    <tr>\n",
       "      <th>4</th>\n",
       "      <td>1.0</td>\n",
       "      <td>-78.999472</td>\n",
       "      <td>23.438993</td>\n",
       "      <td>-35.685758</td>\n",
       "      <td>-83.144114</td>\n",
       "    </tr>\n",
       "    <tr>\n",
       "      <th>...</th>\n",
       "      <td>...</td>\n",
       "      <td>...</td>\n",
       "      <td>...</td>\n",
       "      <td>...</td>\n",
       "      <td>...</td>\n",
       "    </tr>\n",
       "    <tr>\n",
       "      <th>4757</th>\n",
       "      <td>1.0</td>\n",
       "      <td>-33.479755</td>\n",
       "      <td>-116.987217</td>\n",
       "      <td>-49.335917</td>\n",
       "      <td>-100.076035</td>\n",
       "    </tr>\n",
       "    <tr>\n",
       "      <th>4758</th>\n",
       "      <td>1.0</td>\n",
       "      <td>24.197255</td>\n",
       "      <td>-28.604726</td>\n",
       "      <td>-53.154656</td>\n",
       "      <td>51.686072</td>\n",
       "    </tr>\n",
       "    <tr>\n",
       "      <th>4759</th>\n",
       "      <td>1.0</td>\n",
       "      <td>-114.159990</td>\n",
       "      <td>-210.316949</td>\n",
       "      <td>-111.361506</td>\n",
       "      <td>-161.203483</td>\n",
       "    </tr>\n",
       "    <tr>\n",
       "      <th>4760</th>\n",
       "      <td>1.0</td>\n",
       "      <td>-2.570571</td>\n",
       "      <td>-23.533268</td>\n",
       "      <td>124.652137</td>\n",
       "      <td>-16.745886</td>\n",
       "    </tr>\n",
       "    <tr>\n",
       "      <th>4761</th>\n",
       "      <td>1.0</td>\n",
       "      <td>-5.167760</td>\n",
       "      <td>48.270307</td>\n",
       "      <td>45.521106</td>\n",
       "      <td>48.630149</td>\n",
       "    </tr>\n",
       "  </tbody>\n",
       "</table>\n",
       "<p>4762 rows × 5 columns</p>\n",
       "</div>"
      ],
      "text/plain": [
       "        0           1           2           3           4\n",
       "0     1.0  140.387073  208.726441  152.595058  196.336507\n",
       "1     1.0  104.545073   86.632677   22.200017    7.212674\n",
       "2     1.0 -137.580610 -134.605996 -189.440993 -243.906652\n",
       "3     1.0  -86.057742 -187.683730  -95.774734  -93.244037\n",
       "4     1.0  -78.999472   23.438993  -35.685758  -83.144114\n",
       "...   ...         ...         ...         ...         ...\n",
       "4757  1.0  -33.479755 -116.987217  -49.335917 -100.076035\n",
       "4758  1.0   24.197255  -28.604726  -53.154656   51.686072\n",
       "4759  1.0 -114.159990 -210.316949 -111.361506 -161.203483\n",
       "4760  1.0   -2.570571  -23.533268  124.652137  -16.745886\n",
       "4761  1.0   -5.167760   48.270307   45.521106   48.630149\n",
       "\n",
       "[4762 rows x 5 columns]"
      ]
     },
     "metadata": {},
     "output_type": "display_data"
    },
    {
     "name": "stdout",
     "output_type": "stream",
     "text": [
      "Результат проверки качества модели: разниц между предсказаниями по исходным признакам  𝑎 и преобразованным 𝑎1 1.5397199574357368e-13\n"
     ]
    }
   ],
   "source": [
    "#для исходных признаков (на очищенной выборке с масштабированными данными) \n",
    "X_p_cut_scaled = transform_matrix(X_cut_scaled, y_cut, p_matrix)"
   ]
  },
  {
   "cell_type": "markdown",
   "id": "6dc4c0ab",
   "metadata": {},
   "source": [
    "Видим, что данные потеряли свои оригинальные значения, отражаются различные числа, по которым определить информацию не возможно. \n",
    "\n",
    "Многократно проверили на разных данных.\n",
    "\n",
    "Полученные результаты подтверждают, что сумма расхождений незначительная, значит `𝑎` равен `𝑎1`.\n",
    "\n",
    "На масштабированных данных результат получаем лучше."
   ]
  },
  {
   "cell_type": "markdown",
   "id": "4fa8a1cd",
   "metadata": {},
   "source": [
    "**Вывод**\n",
    "\n",
    "Предложили алгоритм преобразования данных для решения задачи проекта, обосновали, почему качество линейной регрессии не поменяется.\n",
    "\n",
    "На реальном примере показали, что преобразование не приводит к различиям в предсказаниях модели и не ухудшает качество модели."
   ]
  },
  {
   "cell_type": "markdown",
   "id": "d3ddbee2",
   "metadata": {},
   "source": [
    "Подтвердили вывод - суммы расхождений незначительные."
   ]
  },
  {
   "cell_type": "markdown",
   "id": "c4ff2387",
   "metadata": {},
   "source": [
    "<a id = 'R2'></a>"
   ]
  },
  {
   "cell_type": "markdown",
   "id": "47a92b79",
   "metadata": {},
   "source": [
    "## Проверка алгоритма"
   ]
  },
  {
   "cell_type": "markdown",
   "id": "a92dbca0",
   "metadata": {},
   "source": [
    "Создадим модель Линейной Регрессии для исходных данных и преобразованных, сравним метрики качества на разных данных."
   ]
  },
  {
   "cell_type": "markdown",
   "id": "b2ce5a9a",
   "metadata": {},
   "source": [
    "Сравним показатели качества моделей. Вызовем метод `train_model()`, выведем накопительную таблицу, где будут указаны особенности входных данных и приведены показатели метрики R2 на исходных данных и преобразованных данных."
   ]
  },
  {
   "cell_type": "code",
   "execution_count": 30,
   "id": "41dc7a04",
   "metadata": {},
   "outputs": [
    {
     "data": {
      "text/html": [
       "<div>\n",
       "<style scoped>\n",
       "    .dataframe tbody tr th:only-of-type {\n",
       "        vertical-align: middle;\n",
       "    }\n",
       "\n",
       "    .dataframe tbody tr th {\n",
       "        vertical-align: top;\n",
       "    }\n",
       "\n",
       "    .dataframe thead th {\n",
       "        text-align: right;\n",
       "    }\n",
       "</style>\n",
       "<table border=\"1\" class=\"dataframe\">\n",
       "  <thead>\n",
       "    <tr style=\"text-align: right;\">\n",
       "      <th></th>\n",
       "      <th>Выбросы в данных</th>\n",
       "      <th>Данные масштабированы</th>\n",
       "      <th>R2 на исходных данных</th>\n",
       "      <th>R2 на преобразованных данных</th>\n",
       "    </tr>\n",
       "  </thead>\n",
       "  <tbody>\n",
       "    <tr>\n",
       "      <th>0</th>\n",
       "      <td>есть</td>\n",
       "      <td>нет</td>\n",
       "      <td>0.424946</td>\n",
       "      <td>0.424946</td>\n",
       "    </tr>\n",
       "  </tbody>\n",
       "</table>\n",
       "</div>"
      ],
      "text/plain": [
       "  Выбросы в данных Данные масштабированы  R2 на исходных данных  \\\n",
       "0             есть                   нет               0.424946   \n",
       "\n",
       "   R2 на преобразованных данных  \n",
       "0                      0.424946  "
      ]
     },
     "execution_count": 30,
     "metadata": {},
     "output_type": "execute_result"
    }
   ],
   "source": [
    "#исходный датасет на немасштабированых данных\n",
    "tab_metrics.loc[len(tab_metrics.index)] = train_model(X, y, p_matrix, 'есть', 'нет')\n",
    "tab_metrics"
   ]
  },
  {
   "cell_type": "code",
   "execution_count": 31,
   "id": "ce12bb0d",
   "metadata": {},
   "outputs": [
    {
     "data": {
      "text/html": [
       "<div>\n",
       "<style scoped>\n",
       "    .dataframe tbody tr th:only-of-type {\n",
       "        vertical-align: middle;\n",
       "    }\n",
       "\n",
       "    .dataframe tbody tr th {\n",
       "        vertical-align: top;\n",
       "    }\n",
       "\n",
       "    .dataframe thead th {\n",
       "        text-align: right;\n",
       "    }\n",
       "</style>\n",
       "<table border=\"1\" class=\"dataframe\">\n",
       "  <thead>\n",
       "    <tr style=\"text-align: right;\">\n",
       "      <th></th>\n",
       "      <th>Выбросы в данных</th>\n",
       "      <th>Данные масштабированы</th>\n",
       "      <th>R2 на исходных данных</th>\n",
       "      <th>R2 на преобразованных данных</th>\n",
       "    </tr>\n",
       "  </thead>\n",
       "  <tbody>\n",
       "    <tr>\n",
       "      <th>0</th>\n",
       "      <td>есть</td>\n",
       "      <td>нет</td>\n",
       "      <td>0.424946</td>\n",
       "      <td>0.424946</td>\n",
       "    </tr>\n",
       "    <tr>\n",
       "      <th>1</th>\n",
       "      <td>есть</td>\n",
       "      <td>да</td>\n",
       "      <td>0.424946</td>\n",
       "      <td>0.424946</td>\n",
       "    </tr>\n",
       "  </tbody>\n",
       "</table>\n",
       "</div>"
      ],
      "text/plain": [
       "  Выбросы в данных Данные масштабированы  R2 на исходных данных  \\\n",
       "0             есть                   нет               0.424946   \n",
       "1             есть                    да               0.424946   \n",
       "\n",
       "   R2 на преобразованных данных  \n",
       "0                      0.424946  \n",
       "1                      0.424946  "
      ]
     },
     "execution_count": 31,
     "metadata": {},
     "output_type": "execute_result"
    }
   ],
   "source": [
    "#исходный датасет на масштабированых данных\n",
    "tab_metrics.loc[len(tab_metrics.index)] = train_model(X_scaled, y, p_matrix, 'есть', 'да')\n",
    "tab_metrics"
   ]
  },
  {
   "cell_type": "code",
   "execution_count": 32,
   "id": "a090d6aa",
   "metadata": {},
   "outputs": [
    {
     "data": {
      "text/html": [
       "<div>\n",
       "<style scoped>\n",
       "    .dataframe tbody tr th:only-of-type {\n",
       "        vertical-align: middle;\n",
       "    }\n",
       "\n",
       "    .dataframe tbody tr th {\n",
       "        vertical-align: top;\n",
       "    }\n",
       "\n",
       "    .dataframe thead th {\n",
       "        text-align: right;\n",
       "    }\n",
       "</style>\n",
       "<table border=\"1\" class=\"dataframe\">\n",
       "  <thead>\n",
       "    <tr style=\"text-align: right;\">\n",
       "      <th></th>\n",
       "      <th>Выбросы в данных</th>\n",
       "      <th>Данные масштабированы</th>\n",
       "      <th>R2 на исходных данных</th>\n",
       "      <th>R2 на преобразованных данных</th>\n",
       "    </tr>\n",
       "  </thead>\n",
       "  <tbody>\n",
       "    <tr>\n",
       "      <th>0</th>\n",
       "      <td>есть</td>\n",
       "      <td>нет</td>\n",
       "      <td>0.424946</td>\n",
       "      <td>0.424946</td>\n",
       "    </tr>\n",
       "    <tr>\n",
       "      <th>1</th>\n",
       "      <td>есть</td>\n",
       "      <td>да</td>\n",
       "      <td>0.424946</td>\n",
       "      <td>0.424946</td>\n",
       "    </tr>\n",
       "    <tr>\n",
       "      <th>2</th>\n",
       "      <td>нет</td>\n",
       "      <td>нет</td>\n",
       "      <td>0.423253</td>\n",
       "      <td>0.423253</td>\n",
       "    </tr>\n",
       "  </tbody>\n",
       "</table>\n",
       "</div>"
      ],
      "text/plain": [
       "  Выбросы в данных Данные масштабированы  R2 на исходных данных  \\\n",
       "0             есть                   нет               0.424946   \n",
       "1             есть                    да               0.424946   \n",
       "2              нет                   нет               0.423253   \n",
       "\n",
       "   R2 на преобразованных данных  \n",
       "0                      0.424946  \n",
       "1                      0.424946  \n",
       "2                      0.423253  "
      ]
     },
     "execution_count": 32,
     "metadata": {},
     "output_type": "execute_result"
    }
   ],
   "source": [
    "#исходный датасет на очищенной выборке с немасштабированными данными\n",
    "tab_metrics.loc[len(tab_metrics.index)] = train_model(X_cut, y_cut, p_matrix, 'нет', 'нет')\n",
    "tab_metrics"
   ]
  },
  {
   "cell_type": "code",
   "execution_count": 33,
   "id": "c11799be",
   "metadata": {},
   "outputs": [
    {
     "data": {
      "text/html": [
       "<div>\n",
       "<style scoped>\n",
       "    .dataframe tbody tr th:only-of-type {\n",
       "        vertical-align: middle;\n",
       "    }\n",
       "\n",
       "    .dataframe tbody tr th {\n",
       "        vertical-align: top;\n",
       "    }\n",
       "\n",
       "    .dataframe thead th {\n",
       "        text-align: right;\n",
       "    }\n",
       "</style>\n",
       "<table border=\"1\" class=\"dataframe\">\n",
       "  <thead>\n",
       "    <tr style=\"text-align: right;\">\n",
       "      <th></th>\n",
       "      <th>Выбросы в данных</th>\n",
       "      <th>Данные масштабированы</th>\n",
       "      <th>R2 на исходных данных</th>\n",
       "      <th>R2 на преобразованных данных</th>\n",
       "    </tr>\n",
       "  </thead>\n",
       "  <tbody>\n",
       "    <tr>\n",
       "      <th>0</th>\n",
       "      <td>есть</td>\n",
       "      <td>нет</td>\n",
       "      <td>0.424946</td>\n",
       "      <td>0.424946</td>\n",
       "    </tr>\n",
       "    <tr>\n",
       "      <th>1</th>\n",
       "      <td>есть</td>\n",
       "      <td>да</td>\n",
       "      <td>0.424946</td>\n",
       "      <td>0.424946</td>\n",
       "    </tr>\n",
       "    <tr>\n",
       "      <th>2</th>\n",
       "      <td>нет</td>\n",
       "      <td>нет</td>\n",
       "      <td>0.423253</td>\n",
       "      <td>0.423253</td>\n",
       "    </tr>\n",
       "    <tr>\n",
       "      <th>3</th>\n",
       "      <td>нет</td>\n",
       "      <td>да</td>\n",
       "      <td>0.423253</td>\n",
       "      <td>0.423253</td>\n",
       "    </tr>\n",
       "  </tbody>\n",
       "</table>\n",
       "</div>"
      ],
      "text/plain": [
       "  Выбросы в данных Данные масштабированы  R2 на исходных данных  \\\n",
       "0             есть                   нет               0.424946   \n",
       "1             есть                    да               0.424946   \n",
       "2              нет                   нет               0.423253   \n",
       "3              нет                    да               0.423253   \n",
       "\n",
       "   R2 на преобразованных данных  \n",
       "0                      0.424946  \n",
       "1                      0.424946  \n",
       "2                      0.423253  \n",
       "3                      0.423253  "
      ]
     },
     "execution_count": 33,
     "metadata": {},
     "output_type": "execute_result"
    }
   ],
   "source": [
    "#исходный датасет на очищенной выборке с масштабированными данными\n",
    "tab_metrics.loc[len(tab_metrics.index)] = train_model(X_cut_scaled, y_cut, p_matrix, 'нет', 'да')\n",
    "tab_metrics"
   ]
  },
  {
   "cell_type": "markdown",
   "id": "bf7366ef",
   "metadata": {},
   "source": [
    "**Вывод**\n",
    "\n",
    "Полученные результаты подтверждают, что преобразованные данные дают предсказания схожие с предсказаниями исходных данных. \n",
    "\n",
    "По итогу, мы, путем преобразования исходных данных, смогли защитить данные пользователей и этим преобразованием не ухудшили качество модели машинного обучения."
   ]
  },
  {
   "cell_type": "markdown",
   "id": "278c022f",
   "metadata": {},
   "source": [
    "## Итоги и выводы по проекту"
   ]
  },
  {
   "cell_type": "markdown",
   "id": "86902547",
   "metadata": {},
   "source": [
    "Для решения поставленых в проекте задач были предоставлены данные о клиентах страховой компании «Хоть потоп».\n",
    "\n",
    "Необходимо разработать метод преобразования данных, чтобы по ним было сложно восстановить персональную информацию о клиентах.\n",
    "Преобразовании данных не должно повлиять на качество моделей машинного обучения.\n",
    "\n",
    "В наборе данных предсавлены следющие признаки: пол, возраст и зарплата застрахованного, количество членов его семьи.\n",
    "\n",
    "Выделили целевой признак: количество страховых выплат клиенту.\n",
    "\n",
    "Данные предоставлены за последние 5 лет.\n",
    "\n",
    "На первом этапе работы над проектом ответили на вопрос и обосновали решение: Признаки умножают на обратимую матрицу. Изменится ли качество линейной регрессии?\n",
    "\n",
    "Математически, используя матричные операции доказали, что качество линейной регрессии не меняется.\n",
    "\n",
    "Детальную информацию можно посмотреть по ссылке  [матричные преобразования](#matrix)\n",
    "\n",
    "Далее загрузили предоставленные данные и изучили их.\n",
    "\n",
    "Типы данных в датафрейме:\n",
    "\n",
    "Категориальные: Пол.\n",
    "\n",
    "Количественные: Возраст, Зарплата, Члены семьи, Страховые выплаты.\n",
    "\n",
    "Логические: логических нет.\n",
    "\n",
    "В датафрейме 5000 объектов и 5 признаков (характеристик) для них.\n",
    "\n",
    "Пропусков в данных нет.\n",
    "\n",
    "Удалили дубликаты (153 объекта).\n",
    "\n",
    "Посмотрим на распеределение признаков датасета. Выявили выбросы в данных (построили боксплот). Выбросы тоже удалили.\n",
    "\n",
    "В целом датасет потерял порядка 5% данных.\n",
    "\n",
    "Проверили независимые признаки на степень корреляции, сильно коррелирующих признаков выявленно не было.\n",
    "\n",
    "Детальную информацию можно посмотреть по ссылке  [исследование данных](#data)\n",
    "\n",
    "Предложили алгоритм преобразования данных для решения задачи проекта.\n",
    "\n",
    "Для защиты информации на этапе поиска коэффициентов регрессии и предсказаний регрессии будем умножать матрицу признаков на обратимую матрицу P , которая будет генерироваться случайным образом.\n",
    "\n",
    "Определили этапы реализиции алгоритма, предложили несколько способов проверки адекватности работы алгоритма.\n",
    "\n",
    "Обосновали, почему качество линейной регрессии не поменяется.\n",
    "\n",
    "Проверили на реальных данных измениться или качество предсказания после преобразования признаков.\n",
    "\n",
    "В результате преобразований данные потеряли свои оригинальные значения, отражаются различные числа, по которым определить информацию не возможно. По результатам использования матричных операций можно увидеть, что данные очень просто зашифровать и защитить от распознования, имея правильную матрицу.\n",
    "\n",
    "На реальном примере показали, что преобразование не приводит к различиям в предсказаниях модели и не ухудшает качество модели.\n",
    "\n",
    "Детальную информацию можно посмотреть по ссылке  [алгортм преобразования](#algorithm)\n",
    "\n",
    "Проверили работу алгоритма на примере получения предсказаный алгоритма машинного обуления Линейная Регрессия на исходных данных и преобразованных данных.\n",
    "\n",
    "Сравним показатели качества моделей.\n",
    "\n",
    "Преобразованные данные дают предсказания схожие с предсказаниями исходных данных.\n",
    "\n",
    "По итогу, мы, путем преобразования исходных данных, смогли защитить данные пользователей и этим преобразованием не ухудшили качество модели машинного обучения.\n",
    "\n",
    "Детальную информацию можно посмотреть по ссылке  [проверка качества модели](#R2)\n",
    "\n",
    "\n",
    "**Вывод** \n",
    "\n",
    "Результаты, полученные в ходе проекта показали, что теоретически доказанное нами утверждение, а именно: в случае умножения признаков на обратимую матрицу качество линейной регрессии не меняется, получило практическое подтверждение. \n",
    "\n",
    "Значит мы может защитить данные пользователей без всякого вреда для качества нашей модели.\n"
   ]
  }
 ],
 "metadata": {
  "ExecuteTimeLog": [
   {
    "duration": 2732,
    "start_time": "2023-08-15T10:57:30.032Z"
   },
   {
    "duration": 3,
    "start_time": "2023-08-15T10:57:32.767Z"
   },
   {
    "duration": 7,
    "start_time": "2023-08-15T10:57:32.772Z"
   },
   {
    "duration": 44,
    "start_time": "2023-08-15T10:57:32.782Z"
   },
   {
    "duration": 17,
    "start_time": "2023-08-15T10:57:32.830Z"
   },
   {
    "duration": 46,
    "start_time": "2023-08-15T10:57:32.850Z"
   },
   {
    "duration": 36,
    "start_time": "2023-08-15T10:57:32.899Z"
   },
   {
    "duration": 140,
    "start_time": "2023-08-15T10:57:32.937Z"
   },
   {
    "duration": 14,
    "start_time": "2023-08-15T10:57:33.081Z"
   },
   {
    "duration": 22,
    "start_time": "2023-08-15T10:57:33.097Z"
   },
   {
    "duration": 4,
    "start_time": "2023-08-15T10:57:33.121Z"
   },
   {
    "duration": 22,
    "start_time": "2023-08-15T10:57:33.127Z"
   },
   {
    "duration": 46,
    "start_time": "2023-08-15T10:57:33.151Z"
   },
   {
    "duration": 9,
    "start_time": "2023-08-15T10:57:33.201Z"
   },
   {
    "duration": 25,
    "start_time": "2023-08-15T10:57:33.212Z"
   },
   {
    "duration": 31,
    "start_time": "2023-08-15T10:57:33.239Z"
   },
   {
    "duration": 31,
    "start_time": "2023-08-15T10:57:33.273Z"
   },
   {
    "duration": 1290,
    "start_time": "2023-08-15T10:57:33.307Z"
   },
   {
    "duration": 303,
    "start_time": "2023-08-15T10:57:34.599Z"
   },
   {
    "duration": 22,
    "start_time": "2023-08-15T10:57:34.903Z"
   },
   {
    "duration": 40,
    "start_time": "2023-08-15T10:57:34.927Z"
   },
   {
    "duration": 6,
    "start_time": "2023-08-15T10:57:34.969Z"
   },
   {
    "duration": 10,
    "start_time": "2023-08-15T10:57:34.976Z"
   },
   {
    "duration": 76,
    "start_time": "2023-08-15T10:57:34.989Z"
   },
   {
    "duration": 14,
    "start_time": "2023-08-15T10:57:35.157Z"
   },
   {
    "duration": 100,
    "start_time": "2023-08-15T10:57:35.174Z"
   },
   {
    "duration": 183,
    "start_time": "2023-08-15T10:57:35.277Z"
   },
   {
    "duration": 106,
    "start_time": "2023-08-15T10:57:35.463Z"
   },
   {
    "duration": 112,
    "start_time": "2023-08-15T10:57:35.571Z"
   },
   {
    "duration": 6,
    "start_time": "2023-08-15T10:57:35.763Z"
   },
   {
    "duration": 109,
    "start_time": "2023-08-15T10:57:35.772Z"
   },
   {
    "duration": 93,
    "start_time": "2023-08-15T10:57:35.883Z"
   },
   {
    "duration": 210,
    "start_time": "2023-08-15T10:57:35.978Z"
   },
   {
    "duration": 96,
    "start_time": "2023-08-15T10:57:36.263Z"
   },
   {
    "duration": 199,
    "start_time": "2023-08-15T10:57:36.361Z"
   },
   {
    "duration": 110,
    "start_time": "2023-08-15T10:57:36.568Z"
   },
   {
    "duration": 15,
    "start_time": "2023-08-15T11:35:09.261Z"
   },
   {
    "duration": 5,
    "start_time": "2023-08-15T12:06:16.226Z"
   },
   {
    "duration": 5,
    "start_time": "2023-08-15T12:06:22.623Z"
   },
   {
    "duration": 10,
    "start_time": "2023-08-15T12:10:46.890Z"
   },
   {
    "duration": 2293,
    "start_time": "2023-08-15T22:08:13.426Z"
   },
   {
    "duration": 4,
    "start_time": "2023-08-15T22:08:15.720Z"
   },
   {
    "duration": 8,
    "start_time": "2023-08-15T22:08:15.725Z"
   },
   {
    "duration": 8,
    "start_time": "2023-08-15T22:08:15.735Z"
   },
   {
    "duration": 10,
    "start_time": "2023-08-15T22:08:15.744Z"
   },
   {
    "duration": 14,
    "start_time": "2023-08-15T22:08:15.755Z"
   },
   {
    "duration": 15,
    "start_time": "2023-08-15T22:08:15.771Z"
   },
   {
    "duration": 39,
    "start_time": "2023-08-15T22:08:15.787Z"
   },
   {
    "duration": 12,
    "start_time": "2023-08-15T22:08:15.828Z"
   },
   {
    "duration": 10,
    "start_time": "2023-08-15T22:08:15.844Z"
   },
   {
    "duration": 5,
    "start_time": "2023-08-15T22:08:15.856Z"
   },
   {
    "duration": 19,
    "start_time": "2023-08-15T22:08:15.862Z"
   },
   {
    "duration": 28,
    "start_time": "2023-08-15T22:08:15.883Z"
   },
   {
    "duration": 5,
    "start_time": "2023-08-15T22:08:15.913Z"
   },
   {
    "duration": 11,
    "start_time": "2023-08-15T22:08:15.920Z"
   },
   {
    "duration": 7,
    "start_time": "2023-08-15T22:08:15.932Z"
   },
   {
    "duration": 13,
    "start_time": "2023-08-15T22:08:15.941Z"
   },
   {
    "duration": 1095,
    "start_time": "2023-08-15T22:08:15.955Z"
   },
   {
    "duration": 292,
    "start_time": "2023-08-15T22:08:17.052Z"
   },
   {
    "duration": 20,
    "start_time": "2023-08-15T22:08:17.345Z"
   },
   {
    "duration": 4,
    "start_time": "2023-08-15T22:08:17.366Z"
   },
   {
    "duration": 33,
    "start_time": "2023-08-15T22:08:17.372Z"
   },
   {
    "duration": 92,
    "start_time": "2023-08-15T22:08:17.406Z"
   },
   {
    "duration": 96,
    "start_time": "2023-08-15T22:08:17.500Z"
   },
   {
    "duration": 106,
    "start_time": "2023-08-15T22:08:17.598Z"
   },
   {
    "duration": 195,
    "start_time": "2023-08-15T22:08:17.706Z"
   },
   {
    "duration": 20,
    "start_time": "2023-08-15T22:08:17.904Z"
   },
   {
    "duration": 212,
    "start_time": "2023-08-15T22:08:18.005Z"
   },
   {
    "duration": 288,
    "start_time": "2023-08-15T22:08:18.311Z"
   },
   {
    "duration": 192,
    "start_time": "2023-08-15T22:08:18.606Z"
   },
   {
    "duration": 199,
    "start_time": "2023-08-15T22:08:18.800Z"
   },
   {
    "duration": 113,
    "start_time": "2023-08-15T22:08:19.005Z"
   },
   {
    "duration": 289,
    "start_time": "2023-08-15T22:08:19.120Z"
   },
   {
    "duration": 15,
    "start_time": "2023-08-15T23:20:56.582Z"
   },
   {
    "duration": 66,
    "start_time": "2023-08-16T05:29:15.069Z"
   },
   {
    "duration": 1574,
    "start_time": "2023-08-16T05:29:25.718Z"
   },
   {
    "duration": 4,
    "start_time": "2023-08-16T05:29:27.293Z"
   },
   {
    "duration": 30,
    "start_time": "2023-08-16T05:29:27.299Z"
   },
   {
    "duration": 15,
    "start_time": "2023-08-16T05:29:27.331Z"
   },
   {
    "duration": 8,
    "start_time": "2023-08-16T05:29:27.347Z"
   },
   {
    "duration": 17,
    "start_time": "2023-08-16T05:29:27.356Z"
   },
   {
    "duration": 18,
    "start_time": "2023-08-16T05:29:27.375Z"
   },
   {
    "duration": 96,
    "start_time": "2023-08-16T05:29:27.394Z"
   },
   {
    "duration": 12,
    "start_time": "2023-08-16T05:29:27.492Z"
   },
   {
    "duration": 37,
    "start_time": "2023-08-16T05:29:27.507Z"
   },
   {
    "duration": 6,
    "start_time": "2023-08-16T05:29:27.545Z"
   },
   {
    "duration": 8,
    "start_time": "2023-08-16T05:29:27.552Z"
   },
   {
    "duration": 22,
    "start_time": "2023-08-16T05:29:27.561Z"
   },
   {
    "duration": 4,
    "start_time": "2023-08-16T05:29:27.585Z"
   },
   {
    "duration": 31,
    "start_time": "2023-08-16T05:29:27.590Z"
   },
   {
    "duration": 9,
    "start_time": "2023-08-16T05:29:27.623Z"
   },
   {
    "duration": 32,
    "start_time": "2023-08-16T05:29:27.633Z"
   },
   {
    "duration": 868,
    "start_time": "2023-08-16T05:29:27.667Z"
   },
   {
    "duration": 235,
    "start_time": "2023-08-16T05:29:28.536Z"
   },
   {
    "duration": 18,
    "start_time": "2023-08-16T05:29:28.772Z"
   },
   {
    "duration": 16,
    "start_time": "2023-08-16T05:29:28.798Z"
   },
   {
    "duration": 9,
    "start_time": "2023-08-16T05:29:28.816Z"
   },
   {
    "duration": 93,
    "start_time": "2023-08-16T05:29:28.826Z"
   },
   {
    "duration": 99,
    "start_time": "2023-08-16T05:29:28.922Z"
   },
   {
    "duration": 97,
    "start_time": "2023-08-16T05:29:29.023Z"
   },
   {
    "duration": 183,
    "start_time": "2023-08-16T05:29:29.122Z"
   },
   {
    "duration": 112,
    "start_time": "2023-08-16T05:29:29.306Z"
   },
   {
    "duration": 213,
    "start_time": "2023-08-16T05:29:29.421Z"
   },
   {
    "duration": 299,
    "start_time": "2023-08-16T05:29:29.704Z"
   },
   {
    "duration": 201,
    "start_time": "2023-08-16T05:29:30.008Z"
   },
   {
    "duration": 102,
    "start_time": "2023-08-16T05:29:30.214Z"
   },
   {
    "duration": 291,
    "start_time": "2023-08-16T05:29:30.318Z"
   },
   {
    "duration": 99,
    "start_time": "2023-08-16T05:29:30.613Z"
   },
   {
    "duration": 10,
    "start_time": "2023-08-16T05:30:25.882Z"
   }
  ],
  "kernelspec": {
   "display_name": "Python 3 (ipykernel)",
   "language": "python",
   "name": "python3"
  },
  "language_info": {
   "codemirror_mode": {
    "name": "ipython",
    "version": 3
   },
   "file_extension": ".py",
   "mimetype": "text/x-python",
   "name": "python",
   "nbconvert_exporter": "python",
   "pygments_lexer": "ipython3",
   "version": "3.10.9"
  },
  "toc": {
   "base_numbering": 1,
   "nav_menu": {
    "height": "250.431px",
    "width": "160px"
   },
   "number_sections": true,
   "sideBar": true,
   "skip_h1_title": true,
   "title_cell": "Table of Contents",
   "title_sidebar": "Contents",
   "toc_cell": true,
   "toc_position": {
    "height": "calc(100% - 180px)",
    "left": "10px",
    "top": "150px",
    "width": "341.333px"
   },
   "toc_section_display": true,
   "toc_window_display": true
  }
 },
 "nbformat": 4,
 "nbformat_minor": 5
}
